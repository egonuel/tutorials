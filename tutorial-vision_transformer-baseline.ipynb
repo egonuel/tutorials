{
 "cells": [
  {
   "cell_type": "code",
   "execution_count": 1,
   "metadata": {
    "colab": {},
    "colab_type": "code",
    "id": "qdB23YiUA02F"
   },
   "outputs": [],
   "source": [
    "%matplotlib inline\n",
    "%reload_ext autoreload\n",
    "%autoreload 2\n",
    "%load_ext line_profiler"
   ]
  },
  {
   "cell_type": "code",
   "execution_count": 2,
   "metadata": {},
   "outputs": [],
   "source": [
    "import os\n",
    "# os.environ[\"CUDA_DEVICE_ORDER\"]=\"PCI_BUS_ID\"   # see issue #152\n",
    "os.environ[\"CUDA_VISIBLE_DEVICES\"] = \"0\""
   ]
  },
  {
   "cell_type": "code",
   "execution_count": 3,
   "metadata": {},
   "outputs": [
    {
     "name": "stdout",
     "output_type": "stream",
     "text": [
      "python 3.8.8 | packaged by conda-forge | (default, Feb 20 2021, 16:22:27) \n",
      "[GCC 9.3.0] /home/mtadmin/miniconda3/envs/dev_pytorch18/bin/python\n",
      "pytorch 1.8.0\n",
      "torchvision 0.9.0\n",
      "pytorch-lightning 1.2.4\n"
     ]
    }
   ],
   "source": [
    "import sys, os, warnings, time, logging\n",
    "from functools import partial\n",
    "import copy\n",
    "import torch\n",
    "import torch.nn as nn\n",
    "import pytorch_lightning as pl\n",
    "from pytorch_lightning.core.decorators import auto_move_data\n",
    "from pytorch_lightning.callbacks import EarlyStopping, LearningRateMonitor, ModelCheckpoint\n",
    "from einops import rearrange, repeat\n",
    "\n",
    "import numpy as np\n",
    "import matplotlib.pyplot as plt\n",
    "import torchvision\n",
    "from tqdm.autonotebook import tqdm\n",
    "\n",
    "from lightning_addons.progressbar import ProgressBar\n",
    "from lightning_addons.progressplotter import ProgressPlotter\n",
    "from lightning_addons.progressprinter import ProgressPrinter\n",
    "\n",
    "warnings.filterwarnings(\"ignore\", category=UserWarning)\n",
    "warnings.filterwarnings(\"ignore\", category=DeprecationWarning)\n",
    "# this makes lightning reports not look like errors\n",
    "pl._logger.handlers = [logging.StreamHandler(sys.stdout)]\n",
    "\n",
    "print(\"python\", sys.version, sys.executable)\n",
    "print(\"pytorch\", torch.__version__)\n",
    "print(\"torchvision\", torchvision.__version__)\n",
    "print(\"pytorch-lightning\", pl.__version__)"
   ]
  },
  {
   "cell_type": "code",
   "execution_count": 4,
   "metadata": {},
   "outputs": [],
   "source": [
    "def to_3channel(image):\n",
    "    return image.repeat((3, 1, 1))"
   ]
  },
  {
   "cell_type": "markdown",
   "metadata": {},
   "source": [
    "## mnist"
   ]
  },
  {
   "cell_type": "code",
   "execution_count": 5,
   "metadata": {},
   "outputs": [
    {
     "data": {
      "text/plain": [
       "((3, 28, 28), 42000, 18000, 10000)"
      ]
     },
     "execution_count": 5,
     "metadata": {},
     "output_type": "execute_result"
    }
   ],
   "source": [
    "class MnistDataModule(pl.LightningDataModule):\n",
    "    def __init__(self, batch_size, n_workers, train_fraction=0.7, extra_transforms=None, data_dir=\"data/mnist\"):\n",
    "        super().__init__()\n",
    "        self.batch_size = batch_size\n",
    "        self.n_workers = n_workers\n",
    "        self.train_fraction = train_fraction\n",
    "        self.data_dir = data_dir\n",
    "        transforms = [torchvision.transforms.ToTensor(),]\n",
    "        if extra_transforms is not None:\n",
    "            transforms += extra_transforms\n",
    "        self.transform = torchvision.transforms.Compose(transforms)\n",
    "        \n",
    "    def prepare_data(self):\n",
    "        # this is intended to just run the download\n",
    "        torchvision.datasets.MNIST(self.data_dir, download=True, train=True)\n",
    "        torchvision.datasets.MNIST(self.data_dir, download=True, train=False)\n",
    "        \n",
    "    def setup(self, stage=None):\n",
    "        # this can potentially be run on different machines and GPUs hence the actual preperation should be done here\n",
    "        if stage == \"fit\" or stage is None:\n",
    "            trainval_data = torchvision.datasets.MNIST(self.data_dir, train=True, transform=self.transform)\n",
    "            n_trainval = len(trainval_data)\n",
    "            n_train = int(self.train_fraction * n_trainval)\n",
    "            self.train_data = torch.utils.data.Subset(trainval_data, range(0, n_train))\n",
    "            self.val_data = torch.utils.data.Subset(trainval_data, range(n_train, n_trainval))\n",
    "            # if we set this here we get the actual transformed size, which is nice at it does not require prior knowledge as in __init__()\n",
    "            self.dims = tuple(self.train_data[0][0].shape)\n",
    "        if stage == \"test\" or stage is None:\n",
    "            self.test_data = torchvision.datasets.MNIST(self.data_dir, train=False, transform=self.transform)\n",
    "            self.dims = tuple(self.test_data[0][0].shape)\n",
    "        \n",
    "    def train_dataloader(self):\n",
    "        return torch.utils.data.DataLoader(self.train_data, batch_size=self.batch_size, num_workers=self.n_workers, shuffle=True)\n",
    "    \n",
    "    def val_dataloader(self):\n",
    "        return torch.utils.data.DataLoader(self.val_data, batch_size=self.batch_size, num_workers=self.n_workers)\n",
    "    \n",
    "    def test_dataloader(self):\n",
    "        return torch.utils.data.DataLoader(self.test_data, batch_size=self.batch_size, num_workers=self.n_workers)\n",
    "\n",
    "output_size = 28\n",
    "\n",
    "# data standard normalization parameters:\n",
    "# to compute mean and std\n",
    "# norm_mean = 0.\n",
    "# norm_std = 1.\n",
    "# default\n",
    "# norm_mean = 0.5\n",
    "# norm_std = 0.5\n",
    "# imagenet\n",
    "# norm_mean = [0.485, 0.456, 0.406]\n",
    "# norm_std = [0.229, 0.224, 0.225]\n",
    "# mnist \n",
    "norm_mean = [0.1311, 0.1311, 0.1311]\n",
    "norm_std = [0.3087, 0.3087, 0.3087]\n",
    "\n",
    "# TODO: we can do better by actually computing these values from mnist\n",
    "extra_transforms = [\n",
    "    torchvision.transforms.Resize(output_size),\n",
    "    to_3channel,  # we use 3 channels to directly use (pretrained) ResNets\n",
    "    torchvision.transforms.Normalize(norm_mean, norm_std),\n",
    "]\n",
    "mnist_data = MnistDataModule(32, 8, extra_transforms=extra_transforms)\n",
    "mnist_data.prepare_data()\n",
    "mnist_data.setup()\n",
    "mnist_data.size(), len(mnist_data.train_dataloader().dataset), len(mnist_data.val_dataloader().dataset), len(mnist_data.test_dataloader().dataset)"
   ]
  },
  {
   "cell_type": "markdown",
   "metadata": {},
   "source": [
    "## select dataset"
   ]
  },
  {
   "cell_type": "code",
   "execution_count": 6,
   "metadata": {},
   "outputs": [],
   "source": [
    "data = mnist_data"
   ]
  },
  {
   "cell_type": "markdown",
   "metadata": {},
   "source": [
    "## compute normalization stats"
   ]
  },
  {
   "cell_type": "code",
   "execution_count": 7,
   "metadata": {},
   "outputs": [],
   "source": [
    "# # compute mean and std etc\n",
    "# input_key = 0\n",
    "# def collect_stats(sample):\n",
    "#     image = sample[input_key]\n",
    "#     return image.sum((1, 2)), (image ** 2).sum((1, 2))#, image.mean((1, 2)), image.min((1, 2)), image.max((1, 2))\n",
    "\n",
    "# all_stats = [collect_stats(sample) for sample in tqdm(data.train_dataloader().dataset)]\n",
    "# sums, squared_sums= [torch.stack(stats, 0) for stats in (zip(*all_stats))]\n",
    "# # # , means, mins, maxs \n",
    "# input_shape = data.train_dataloader().dataset[0][input_key].shape\n",
    "# input_area = input_shape[1] * input_shape[2]\n",
    "\n",
    "# ds_mean = sums.mean(0) / input_area\n",
    "# ds_std = (squared_sums.mean(0) / input_area - ds_mean ** 2).sqrt()\n",
    "# ds_mean, ds_std"
   ]
  },
  {
   "cell_type": "markdown",
   "metadata": {},
   "source": [
    "## check samples"
   ]
  },
  {
   "cell_type": "code",
   "execution_count": 8,
   "metadata": {},
   "outputs": [
    {
     "data": {
      "image/png": "[encoded data removed]",
      "text/plain": [
       "<Figure size 720x360 with 8 Axes>"
      ]
     },
     "metadata": {
      "needs_background": "light"
     },
     "output_type": "display_data"
    }
   ],
   "source": [
    "dataloader = data.train_dataloader()\n",
    "batch = next(iter(dataloader))\n",
    "# 0: input, 1: target\n",
    "n_samples = 8\n",
    "f, axs = plt.subplots(1, n_samples, figsize=(10, 5))\n",
    "for i, ax in enumerate(axs):\n",
    "    sample_image = batch[0][i]\n",
    "    sample_target = batch[1][i]\n",
    "    ax.imshow(sample_image.permute(1, 2, 0).mul(torch.as_tensor(norm_std)).add(torch.as_tensor(norm_mean)).clamp(0.0, 1.0))\n",
    "    ax.set_title(f\"label: {sample_target.numpy()}\");\n",
    "    ax.axis(False);"
   ]
  },
  {
   "cell_type": "markdown",
   "metadata": {},
   "source": [
    "## resnet model"
   ]
  },
  {
   "cell_type": "code",
   "execution_count": 9,
   "metadata": {},
   "outputs": [
    {
     "data": {
      "text/plain": [
       "\"activation\":          softmax\n",
       "\"data_shape\":          (3, 28, 28)\n",
       "\"learning_rate\":       0.01\n",
       "\"momentum\":            0.9\n",
       "\"num_classes\":         10\n",
       "\"pretrained\":          False\n",
       "\"scheduler\":           one_cycle\n",
       "\"sigmoid_soft_factor\": 1.0\n",
       "\"weight_decay\":        0.0005"
      ]
     },
     "execution_count": 9,
     "metadata": {},
     "output_type": "execute_result"
    }
   ],
   "source": [
    "class ResNetModel(pl.LightningModule):\n",
    "    def __init__(self, data_shape, num_classes, \n",
    "                 learning_rate, momentum=0.9, weight_decay=5e-4,\n",
    "                 pretrained=False, activation=\"softmax\", sigmoid_soft_factor=1.0, scheduler=\"one_cycle\"):\n",
    "        super().__init__()\n",
    "        self.save_hyperparameters()\n",
    "\n",
    "        # torchvision's resnet18 does not allow pretraining for num_classes != 1000\n",
    "        assert pretrained == False\n",
    "        self.resnet = torchvision.models.resnet18(num_classes=num_classes)\n",
    "    \n",
    "#         # to use pretraining simply replace last linear layer with one mathcing num_classes\n",
    "#         self.resnet = torchvision.models.resnet18(pretrained=pretrained)\n",
    "#         self.resnet.fc = torch.nn.Linear(512, 10)\n",
    "        \n",
    "        # this allows the trainer to show input and output sizes in the report (1 is just a sample batch size)\n",
    "        self.example_input_array = torch.zeros(1, *data_shape)\n",
    "        \n",
    "        self.train_acc = pl.metrics.Accuracy(compute_on_step=False)\n",
    "        self.val_acc = pl.metrics.Accuracy(compute_on_step=False)\n",
    "        self.test_acc = pl.metrics.Accuracy(compute_on_step=False)\n",
    "        self.test_confmatrix = pl.metrics.ConfusionMatrix(num_classes, compute_on_step=False)\n",
    "        \n",
    "    def configure_optimizers(self):\n",
    "        optimizer = torch.optim.SGD(self.parameters(), lr=self.hparams.learning_rate, momentum=self.hparams.momentum, weight_decay=self.hparams.weight_decay)\n",
    "        schedulers = []\n",
    "        if self.hparams.scheduler == \"one_cycle\":\n",
    "            steps_per_epoch = int(self.trainer.limit_train_batches * len(self.train_dataloader())) # same as batches per epoch\n",
    "            max_epochs = self.trainer.max_epochs\n",
    "            scheduler = torch.optim.lr_scheduler.OneCycleLR(\n",
    "                optimizer,\n",
    "                max_lr=self.hparams.learning_rate,\n",
    "                epochs=max_epochs,\n",
    "                steps_per_epoch=steps_per_epoch,\n",
    "                anneal_strategy=\"cos\", # can be \"linear\" or \"cos\"(default)\n",
    "                three_phase=False,\n",
    "            )\n",
    "            # \"interval: step\" is required to let the scheduler update per step rather than epoch\n",
    "            schedulers = [{\"scheduler\": scheduler, \"interval\": \"step\", \"frequency\": 1}]\n",
    "        elif self.hparams.scheduler == \"cosine_annealing\":\n",
    "            steps_per_epoch = int(self.trainer.limit_train_batches * len(self.train_dataloader())) # same as batches per epoch\n",
    "            max_epochs = self.trainer.max_epochs\n",
    "            max_steps = max_epochs * steps_per_epoch\n",
    "            scheduler = torch.optim.lr_scheduler.CosineAnnealingLR(\n",
    "                optimizer,\n",
    "                T_max=max_steps,\n",
    "            )\n",
    "            schedulers = [{\"scheduler\": scheduler, \"interval\": \"step\", \"frequency\": 1}]\n",
    "        elif isinstance(self.hparams.scheduler, type) or isinstance(self.hparams.scheduler, partial):\n",
    "            schedulers = [self.hparams.scheduler(optimizer)]\n",
    "        return [optimizer], schedulers\n",
    "    \n",
    "    def class_activation(self, x):\n",
    "        if self.hparams.activation == \"softmax\":\n",
    "            return x.softmax(1)\n",
    "        elif self.hparams.activation == \"sigmoid\":\n",
    "            return x.sigmoid()\n",
    "        \n",
    "    def class_loss(self, y_hat, y):\n",
    "        # y_hat: prediction, y: target\n",
    "        if self.hparams.activation == \"softmax\":\n",
    "            return torch.nn.functional.cross_entropy(y_hat, y)\n",
    "        elif self.hparams.activation == \"sigmoid\":\n",
    "            y = y.float()\n",
    "            y = y * self.hparams.sigmoid_soft_factor\n",
    "            y[y == 0] = (1.0 - self.hparams.sigmoid_soft_factor) / (self.hparams.num_classes - 1)\n",
    "            return torch.nn.functional.binary_cross_entropy_with_logits(y_hat, y)\n",
    "    \n",
    "    def _forward(self, x):\n",
    "        return self.resnet(x)\n",
    "    \n",
    "    def training_step(self, batch, batch_nb):\n",
    "        images, targets = batch\n",
    "        if self.hparams.activation == \"sigmoid\":\n",
    "            targets = torch.nn.functional.one_hot(targets, num_classes=self.hparams.num_classes)\n",
    "        \n",
    "        preds = self._forward(images)\n",
    "        loss = self.class_loss(preds, targets)\n",
    "        self.log(\"loss\", loss)\n",
    "        self.train_acc.update(self.class_activation(preds), targets)\n",
    "        # the accuracies are updated here, but only computed and reported at the epoch, see \"compute_on_step=False\", \"on_step=False\", \"on_epoch=True\"\n",
    "        self.log('train_acc', self.train_acc, prog_bar=False, on_step=False, on_epoch=True)\n",
    "        return loss\n",
    "    \n",
    "    def validation_step(self, batch, batch_nb):\n",
    "        images, targets = batch\n",
    "        if self.hparams.activation == \"sigmoid\":\n",
    "            targets = torch.nn.functional.one_hot(targets, num_classes=self.hparams.num_classes)\n",
    "        \n",
    "        preds = self._forward(images)\n",
    "        loss = self.class_loss(preds, targets)\n",
    "        self.log(\"val_loss\", loss)\n",
    "        self.val_acc.update(self.class_activation(preds), targets)\n",
    "        self.log('val_acc', self.val_acc, prog_bar=False, on_step=False, on_epoch=True)\n",
    "        return loss\n",
    "    \n",
    "    def test_step(self, batch, batch_nb):\n",
    "        images, targets = batch\n",
    "        if self.hparams.activation == \"sigmoid\":\n",
    "            targets = torch.nn.functional.one_hot(targets, num_classes=self.hparams.num_classes)\n",
    "        \n",
    "        preds = self._forward(images)\n",
    "        loss = self.class_loss(preds, targets)\n",
    "        self.log(\"test_loss\", loss)\n",
    "        self.test_acc.update(self.class_activation(preds), targets)\n",
    "        self.log('test_acc', self.test_acc, prog_bar=False, on_step=False, on_epoch=True)\n",
    "        self.test_confmatrix.update(self.class_activation(preds), targets)\n",
    "        return loss\n",
    "    \n",
    "    # this moves data to gpu when forward is called\n",
    "    @auto_move_data\n",
    "    def forward(self, x):\n",
    "        # in pl forward() is intended for inference, hence the activation is done here\n",
    "        logits = self._forward(x)\n",
    "        return self.class_activation(logits)\n",
    "\n",
    "num_classes = 10\n",
    "learning_rate = 1e-2\n",
    "momentum = 0.9\n",
    "weight_decay = 5e-4\n",
    "pretrained = False\n",
    "activation = \"softmax\"\n",
    "# activation = \"sigmoid\"\n",
    "\n",
    "# soft label: this is a multiplier to reduce the one hot 1s in case of sigmoid to a smaller value\n",
    "# TODO: handle with care, this is very likely not correctly implemented \n",
    "sigmoid_soft_factor = 1.0 \n",
    "scheduler = \"one_cycle\" # \"cosine_annealing\" or None\n",
    "# one can also pass a partial scheduler class like the following to use other schedulers\n",
    "# scheduler = partial(torch.optim.lr_scheduler.MultiStepLR, milestones=[3, 6], gamma=0.1)\n",
    "\n",
    "rn_model = ResNetModel(\n",
    "    data.size(), \n",
    "    num_classes, \n",
    "    learning_rate, \n",
    "    momentum=momentum, \n",
    "    weight_decay=weight_decay,\n",
    "    pretrained=pretrained, \n",
    "    activation=activation,\n",
    "    sigmoid_soft_factor=sigmoid_soft_factor,\n",
    "    scheduler=scheduler,\n",
    ")\n",
    "rn_model.hparams"
   ]
  },
  {
   "cell_type": "markdown",
   "metadata": {},
   "source": [
    "## train model"
   ]
  },
  {
   "cell_type": "code",
   "execution_count": 10,
   "metadata": {},
   "outputs": [],
   "source": [
    "# run this to show very detailed model information and if model has example_input_array also detailed feature sizes\n",
    "# pl.core.memory.ModelSummary(model, mode=\"full\")"
   ]
  },
  {
   "cell_type": "code",
   "execution_count": 11,
   "metadata": {
    "tags": []
   },
   "outputs": [
    {
     "name": "stdout",
     "output_type": "stream",
     "text": [
      "GPU available: True, used: True\n",
      "TPU available: None, using: 0 TPU cores\n",
      "Using native 16bit precision.\n",
      "\n",
      "  | Name            | Type            | Params | In sizes       | Out sizes\n",
      "---------------------------------------------------------------------------------\n",
      "0 | resnet          | ResNet          | 11.2 M | [1, 3, 28, 28] | [1, 10]  \n",
      "1 | train_acc       | Accuracy        | 0      | ?              | ?        \n",
      "2 | val_acc         | Accuracy        | 0      | ?              | ?        \n",
      "3 | test_acc        | Accuracy        | 0      | ?              | ?        \n",
      "4 | test_confmatrix | ConfusionMatrix | 0      | ?              | ?        \n",
      "---------------------------------------------------------------------------------\n",
      "11.2 M    Trainable params\n",
      "0         Non-trainable params\n",
      "11.2 M    Total params\n",
      "44.727    Total estimated model params size (MB)\n"
     ]
    },
    {
     "data": {
      "application/vnd.jupyter.widget-view+json": {
       "model_id": "81af344b30ad4dd289de9cc127e6596e",
       "version_major": 2,
       "version_minor": 0
      },
      "text/plain": [
       "Training: 0it [00:00, ?it/s]"
      ]
     },
     "metadata": {},
     "output_type": "display_data"
    },
    {
     "data": {
      "text/html": [
       "<style  type=\"text/css\" >\n",
       "#T_09f2d_row0_col0,#T_09f2d_row0_col1,#T_09f2d_row0_col2,#T_09f2d_row0_col3,#T_09f2d_row0_col4,#T_09f2d_row0_col5,#T_09f2d_row1_col0,#T_09f2d_row1_col1,#T_09f2d_row1_col2,#T_09f2d_row1_col3,#T_09f2d_row1_col4,#T_09f2d_row1_col5,#T_09f2d_row2_col0,#T_09f2d_row2_col1,#T_09f2d_row2_col2,#T_09f2d_row2_col3,#T_09f2d_row2_col4,#T_09f2d_row2_col5,#T_09f2d_row3_col0,#T_09f2d_row3_col1,#T_09f2d_row3_col2,#T_09f2d_row3_col3,#T_09f2d_row3_col4,#T_09f2d_row3_col5,#T_09f2d_row4_col0,#T_09f2d_row4_col1,#T_09f2d_row4_col2,#T_09f2d_row4_col3,#T_09f2d_row4_col4,#T_09f2d_row4_col5,#T_09f2d_row5_col0,#T_09f2d_row5_col1,#T_09f2d_row5_col2,#T_09f2d_row5_col3,#T_09f2d_row5_col4,#T_09f2d_row5_col5,#T_09f2d_row7_col0,#T_09f2d_row7_col1,#T_09f2d_row7_col2,#T_09f2d_row7_col3,#T_09f2d_row7_col4,#T_09f2d_row7_col5,#T_09f2d_row8_col0,#T_09f2d_row8_col1,#T_09f2d_row8_col2,#T_09f2d_row8_col3,#T_09f2d_row8_col4,#T_09f2d_row8_col5{\n",
       "            color:  black;\n",
       "        }#T_09f2d_row6_col0,#T_09f2d_row6_col1,#T_09f2d_row6_col2,#T_09f2d_row6_col3,#T_09f2d_row6_col4,#T_09f2d_row6_col5{\n",
       "            color:  red;\n",
       "        }#T_09f2d_row9_col0,#T_09f2d_row9_col1,#T_09f2d_row9_col2,#T_09f2d_row9_col3,#T_09f2d_row9_col4,#T_09f2d_row9_col5{\n",
       "            font-weight:  bold;\n",
       "        }</style><table id=\"T_09f2d_\" ><thead>    <tr>        <th class=\"col_heading level0 col0\" >epoch</th>        <th class=\"col_heading level0 col1\" >loss</th>        <th class=\"col_heading level0 col2\" >val_loss</th>        <th class=\"col_heading level0 col3\" >val_acc</th>        <th class=\"col_heading level0 col4\" >train_acc</th>        <th class=\"col_heading level0 col5\" >time</th>    </tr></thead><tbody>\n",
       "                <tr>\n",
       "                                <td id=\"T_09f2d_row0_col0\" class=\"data row0 col0\" >0</td>\n",
       "                        <td id=\"T_09f2d_row0_col1\" class=\"data row0 col1\" >0.357000</td>\n",
       "                        <td id=\"T_09f2d_row0_col2\" class=\"data row0 col2\" >0.372057</td>\n",
       "                        <td id=\"T_09f2d_row0_col3\" class=\"data row0 col3\" >0.881222</td>\n",
       "                        <td id=\"T_09f2d_row0_col4\" class=\"data row0 col4\" >0.751193</td>\n",
       "                        <td id=\"T_09f2d_row0_col5\" class=\"data row0 col5\" >0:00:06</td>\n",
       "            </tr>\n",
       "            <tr>\n",
       "                                <td id=\"T_09f2d_row1_col0\" class=\"data row1 col0\" >1</td>\n",
       "                        <td id=\"T_09f2d_row1_col1\" class=\"data row1 col1\" >0.237000</td>\n",
       "                        <td id=\"T_09f2d_row1_col2\" class=\"data row1 col2\" >0.225801</td>\n",
       "                        <td id=\"T_09f2d_row1_col3\" class=\"data row1 col3\" >0.933222</td>\n",
       "                        <td id=\"T_09f2d_row1_col4\" class=\"data row1 col4\" >0.906250</td>\n",
       "                        <td id=\"T_09f2d_row1_col5\" class=\"data row1 col5\" >0:00:07</td>\n",
       "            </tr>\n",
       "            <tr>\n",
       "                                <td id=\"T_09f2d_row2_col0\" class=\"data row2 col0\" >2</td>\n",
       "                        <td id=\"T_09f2d_row2_col1\" class=\"data row2 col1\" >0.210000</td>\n",
       "                        <td id=\"T_09f2d_row2_col2\" class=\"data row2 col2\" >0.133475</td>\n",
       "                        <td id=\"T_09f2d_row2_col3\" class=\"data row2 col3\" >0.960833</td>\n",
       "                        <td id=\"T_09f2d_row2_col4\" class=\"data row2 col4\" >0.934876</td>\n",
       "                        <td id=\"T_09f2d_row2_col5\" class=\"data row2 col5\" >0:00:07</td>\n",
       "            </tr>\n",
       "            <tr>\n",
       "                                <td id=\"T_09f2d_row3_col0\" class=\"data row3 col0\" >3</td>\n",
       "                        <td id=\"T_09f2d_row3_col1\" class=\"data row3 col1\" >0.137000</td>\n",
       "                        <td id=\"T_09f2d_row3_col2\" class=\"data row3 col2\" >0.131177</td>\n",
       "                        <td id=\"T_09f2d_row3_col3\" class=\"data row3 col3\" >0.965222</td>\n",
       "                        <td id=\"T_09f2d_row3_col4\" class=\"data row3 col4\" >0.957061</td>\n",
       "                        <td id=\"T_09f2d_row3_col5\" class=\"data row3 col5\" >0:00:07</td>\n",
       "            </tr>\n",
       "            <tr>\n",
       "                                <td id=\"T_09f2d_row4_col0\" class=\"data row4 col0\" >4</td>\n",
       "                        <td id=\"T_09f2d_row4_col1\" class=\"data row4 col1\" >0.098600</td>\n",
       "                        <td id=\"T_09f2d_row4_col2\" class=\"data row4 col2\" >0.119813</td>\n",
       "                        <td id=\"T_09f2d_row4_col3\" class=\"data row4 col3\" >0.962444</td>\n",
       "                        <td id=\"T_09f2d_row4_col4\" class=\"data row4 col4\" >0.964456</td>\n",
       "                        <td id=\"T_09f2d_row4_col5\" class=\"data row4 col5\" >0:00:07</td>\n",
       "            </tr>\n",
       "            <tr>\n",
       "                                <td id=\"T_09f2d_row5_col0\" class=\"data row5 col0\" >5</td>\n",
       "                        <td id=\"T_09f2d_row5_col1\" class=\"data row5 col1\" >0.070200</td>\n",
       "                        <td id=\"T_09f2d_row5_col2\" class=\"data row5 col2\" >0.065792</td>\n",
       "                        <td id=\"T_09f2d_row5_col3\" class=\"data row5 col3\" >0.980056</td>\n",
       "                        <td id=\"T_09f2d_row5_col4\" class=\"data row5 col4\" >0.975191</td>\n",
       "                        <td id=\"T_09f2d_row5_col5\" class=\"data row5 col5\" >0:00:07</td>\n",
       "            </tr>\n",
       "            <tr>\n",
       "                                <td id=\"T_09f2d_row6_col0\" class=\"data row6 col0\" >6</td>\n",
       "                        <td id=\"T_09f2d_row6_col1\" class=\"data row6 col1\" >0.038700</td>\n",
       "                        <td id=\"T_09f2d_row6_col2\" class=\"data row6 col2\" >0.078337</td>\n",
       "                        <td id=\"T_09f2d_row6_col3\" class=\"data row6 col3\" >0.976500</td>\n",
       "                        <td id=\"T_09f2d_row6_col4\" class=\"data row6 col4\" >0.973521</td>\n",
       "                        <td id=\"T_09f2d_row6_col5\" class=\"data row6 col5\" >0:00:07</td>\n",
       "            </tr>\n",
       "            <tr>\n",
       "                                <td id=\"T_09f2d_row7_col0\" class=\"data row7 col0\" >7</td>\n",
       "                        <td id=\"T_09f2d_row7_col1\" class=\"data row7 col1\" >0.052800</td>\n",
       "                        <td id=\"T_09f2d_row7_col2\" class=\"data row7 col2\" >0.051965</td>\n",
       "                        <td id=\"T_09f2d_row7_col3\" class=\"data row7 col3\" >0.984944</td>\n",
       "                        <td id=\"T_09f2d_row7_col4\" class=\"data row7 col4\" >0.978053</td>\n",
       "                        <td id=\"T_09f2d_row7_col5\" class=\"data row7 col5\" >0:00:07</td>\n",
       "            </tr>\n",
       "            <tr>\n",
       "                                <td id=\"T_09f2d_row8_col0\" class=\"data row8 col0\" >8</td>\n",
       "                        <td id=\"T_09f2d_row8_col1\" class=\"data row8 col1\" >0.042900</td>\n",
       "                        <td id=\"T_09f2d_row8_col2\" class=\"data row8 col2\" >0.046504</td>\n",
       "                        <td id=\"T_09f2d_row8_col3\" class=\"data row8 col3\" >0.986333</td>\n",
       "                        <td id=\"T_09f2d_row8_col4\" class=\"data row8 col4\" >0.983540</td>\n",
       "                        <td id=\"T_09f2d_row8_col5\" class=\"data row8 col5\" >0:00:06</td>\n",
       "            </tr>\n",
       "            <tr>\n",
       "                                <td id=\"T_09f2d_row9_col0\" class=\"data row9 col0\" >9</td>\n",
       "                        <td id=\"T_09f2d_row9_col1\" class=\"data row9 col1\" >0.029100</td>\n",
       "                        <td id=\"T_09f2d_row9_col2\" class=\"data row9 col2\" >0.046080</td>\n",
       "                        <td id=\"T_09f2d_row9_col3\" class=\"data row9 col3\" >0.986944</td>\n",
       "                        <td id=\"T_09f2d_row9_col4\" class=\"data row9 col4\" >0.987357</td>\n",
       "                        <td id=\"T_09f2d_row9_col5\" class=\"data row9 col5\" >0:00:07</td>\n",
       "            </tr>\n",
       "    </tbody></table>"
      ],
      "text/plain": [
       "<pandas.io.formats.style.Styler at 0x7fb410583fa0>"
      ]
     },
     "metadata": {},
     "output_type": "display_data"
    },
    {
     "data": {
      "image/png": "[encoded data removed]",
      "text/plain": [
       "<Figure size 432x288 with 2 Axes>"
      ]
     },
     "metadata": {},
     "output_type": "display_data"
    },
    {
     "name": "stdout",
     "output_type": "stream",
     "text": [
      "runtime: 80 s\n"
     ]
    }
   ],
   "source": [
    "tb_logger = pl.loggers.TensorBoardLogger(\"/home/mtadmin/projects/tensorboard_logs\")\n",
    "\n",
    "plotter = ProgressPlotter()\n",
    "callbacks = [\n",
    "    ProgressBar(),\n",
    "    ProgressPrinter(),\n",
    "    plotter,\n",
    "    LearningRateMonitor(log_momentum=True),\n",
    "]\n",
    "\n",
    "# early_stop_callback = EarlyStopping(\n",
    "#     monitor=\"val_loss\",\n",
    "#     mode=\"min\",\n",
    "#     patience=5,\n",
    "#     verbose=True,\n",
    "# )\n",
    "# callbacks = [early_stop_callback] + callbacks\n",
    "\n",
    "\n",
    "# model_checker = ModelCheckpoint(\n",
    "#     monitor=\"val_loss\",\n",
    "#     mode=\"min\",\n",
    "#     save_last=True, \n",
    "#     save_top_k=1, \n",
    "#     filename=\"best_{epoch}\",\n",
    "# )\n",
    "# callbacks += [model_checker]\n",
    "\n",
    "model = rn_model\n",
    "\n",
    "max_epochs = 10\n",
    "limit_train_batches = 1.0\n",
    "limit_train_batches = 0.1 # 1.0 by default/full set, use this to check training on a smaller train set, also exists for val and test set\n",
    "trainer = pl.Trainer(\n",
    "    max_epochs=max_epochs, \n",
    "    gpus=1,\n",
    "    callbacks=callbacks,\n",
    "    logger=[tb_logger],\n",
    "    precision=16,\n",
    "#     fast_dev_run=True, \n",
    "    limit_train_batches=limit_train_batches,\n",
    ")\n",
    "\n",
    "start_time = time.time()\n",
    "trainer.fit(model, data)\n",
    "print(f\"runtime: {time.time() - start_time:.0f} s\")"
   ]
  },
  {
   "cell_type": "markdown",
   "metadata": {},
   "source": [
    "# we aim for ~99 %"
   ]
  },
  {
   "cell_type": "code",
   "execution_count": 12,
   "metadata": {},
   "outputs": [],
   "source": [
    "# trainer.logger.log_dir\n",
    "# trainer.checkpoint_callback.best_model_path"
   ]
  },
  {
   "cell_type": "code",
   "execution_count": 13,
   "metadata": {},
   "outputs": [
    {
     "data": {
      "image/png": "[encoded data removed]",
      "text/plain": [
       "<Figure size 432x288 with 2 Axes>"
      ]
     },
     "metadata": {
      "needs_background": "light"
     },
     "output_type": "display_data"
    }
   ],
   "source": [
    "# static plot after training, useful when coming back after training finished\n",
    "plotter.static_plot()"
   ]
  },
  {
   "cell_type": "code",
   "execution_count": 14,
   "metadata": {},
   "outputs": [
    {
     "data": {
      "application/vnd.jupyter.widget-view+json": {
       "model_id": "26a4d7a84c6249a9ba97fc7c67f59ffe",
       "version_major": 2,
       "version_minor": 0
      },
      "text/plain": [
       "Testing:   0%|          | 0/27 [00:00<?, ?it/s]"
      ]
     },
     "metadata": {},
     "output_type": "display_data"
    },
    {
     "data": {
      "text/plain": [
       "[{'test_loss': 0.03414805978536606, 'test_acc': 0.9890000224113464}]"
      ]
     },
     "execution_count": 14,
     "metadata": {},
     "output_type": "execute_result"
    }
   ],
   "source": [
    "trainer.test(verbose=False)"
   ]
  },
  {
   "cell_type": "code",
   "execution_count": 15,
   "metadata": {},
   "outputs": [
    {
     "data": {
      "text/plain": [
       "<matplotlib.image.AxesImage at 0x7fb410496700>"
      ]
     },
     "execution_count": 15,
     "metadata": {},
     "output_type": "execute_result"
    },
    {
     "data": {
      "image/png": "[encoded data removed]",
      "text/plain": [
       "<Figure size 432x288 with 1 Axes>"
      ]
     },
     "metadata": {
      "needs_background": "light"
     },
     "output_type": "display_data"
    }
   ],
   "source": [
    "plt.imshow(model.test_confmatrix.compute().cpu())"
   ]
  },
  {
   "cell_type": "markdown",
   "metadata": {},
   "source": [
    "## compute accuracy the hard way"
   ]
  },
  {
   "cell_type": "code",
   "execution_count": 16,
   "metadata": {},
   "outputs": [
    {
     "data": {
      "application/vnd.jupyter.widget-view+json": {
       "model_id": "a2910e9b2ae341a9ab0985e962d4a58f",
       "version_major": 2,
       "version_minor": 0
      },
      "text/plain": [
       "  0%|          | 0/313 [00:00<?, ?it/s]"
      ]
     },
     "metadata": {},
     "output_type": "display_data"
    }
   ],
   "source": [
    "model.eval()\n",
    "all_targets = []\n",
    "all_scores = []\n",
    "for images, targets in tqdm(data.test_dataloader()):\n",
    "    with torch.no_grad():\n",
    "        scores = model(images).cpu().float()\n",
    "        all_scores.append(scores)\n",
    "        all_targets.append(targets)\n",
    "        \n",
    "scores = torch.cat(all_scores)\n",
    "targets = torch.cat(all_targets)"
   ]
  },
  {
   "cell_type": "code",
   "execution_count": 17,
   "metadata": {},
   "outputs": [
    {
     "data": {
      "text/plain": [
       "tensor(0.9890)"
      ]
     },
     "execution_count": 17,
     "metadata": {},
     "output_type": "execute_result"
    }
   ],
   "source": [
    "accuracy = (scores.max(1)[1] == targets).sum() / float(len(targets))\n",
    "accuracy"
   ]
  },
  {
   "cell_type": "code",
   "execution_count": null,
   "metadata": {},
   "outputs": [],
   "source": []
  }
 ],
 "metadata": {
  "kernelspec": {
   "display_name": "Python [conda env:dev_pytorch18]",
   "language": "python",
   "name": "conda-env-dev_pytorch18-py"
  },
  "language_info": {
   "codemirror_mode": {
    "name": "ipython",
    "version": 3
   },
   "file_extension": ".py",
   "mimetype": "text/x-python",
   "name": "python",
   "nbconvert_exporter": "python",
   "pygments_lexer": "ipython3",
   "version": "3.8.8"
  }
 },
 "nbformat": 4,
 "nbformat_minor": 4
}
