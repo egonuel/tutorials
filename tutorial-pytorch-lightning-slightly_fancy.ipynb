{
 "cells": [
  {
   "cell_type": "code",
   "execution_count": 1,
   "metadata": {
    "colab": {},
    "colab_type": "code",
    "id": "qdB23YiUA02F"
   },
   "outputs": [],
   "source": [
    "%matplotlib inline\n",
    "%reload_ext autoreload\n",
    "%autoreload 2\n",
    "%load_ext line_profiler"
   ]
  },
  {
   "cell_type": "code",
   "execution_count": 2,
   "metadata": {},
   "outputs": [],
   "source": [
    "import sys, os, warnings, time, logging\n",
    "import torch\n",
    "import pytorch_lightning as pl\n",
    "from pytorch_lightning.core.decorators import auto_move_data\n",
    "from pytorch_lightning.callbacks import EarlyStopping, LearningRateMonitor, ModelCheckpoint\n",
    "\n",
    "import numpy as np\n",
    "import matplotlib.pyplot as plt\n",
    "import torchvision\n",
    "from tqdm.autonotebook import tqdm\n",
    "\n",
    "from lightning_addons.progressbar import ProgressBar\n",
    "from lightning_addons.progressplotter import ProgressPlotter\n",
    "from lightning_addons.progressprinter import ProgressPrinter\n",
    "\n",
    "warnings.filterwarnings(\"ignore\", category=UserWarning)\n",
    "warnings.filterwarnings(\"ignore\", category=DeprecationWarning)\n",
    "# this makes lightning reports not look like errors\n",
    "pl._logger.handlers = [logging.StreamHandler(sys.stdout)]"
   ]
  },
  {
   "cell_type": "code",
   "execution_count": 3,
   "metadata": {},
   "outputs": [],
   "source": [
    "def to_3channel(image):\n",
    "    return image.repeat((3, 1, 1))"
   ]
  },
  {
   "cell_type": "code",
   "execution_count": 4,
   "metadata": {},
   "outputs": [
    {
     "data": {
      "text/plain": [
       "((3, 64, 64), 42000, 18000, 10000)"
      ]
     },
     "execution_count": 4,
     "metadata": {},
     "output_type": "execute_result"
    }
   ],
   "source": [
    "class MnistDataModule(pl.LightningDataModule):\n",
    "    def __init__(self, batch_size, n_workers, train_fraction=0.7, extra_transforms=None, data_dir=\"data/mnist\"):\n",
    "        super().__init__()\n",
    "        self.batch_size = batch_size\n",
    "        self.n_workers = n_workers\n",
    "        self.train_fraction = train_fraction\n",
    "        self.data_dir = data_dir\n",
    "        transforms = [torchvision.transforms.ToTensor(),]\n",
    "        if extra_transforms is not None:\n",
    "            transforms += extra_transforms\n",
    "        self.transform = torchvision.transforms.Compose(transforms)\n",
    "        \n",
    "    def prepare_data(self):\n",
    "        # this is intended to just run the download\n",
    "        torchvision.datasets.MNIST(self.data_dir, download=True, train=True)\n",
    "        torchvision.datasets.MNIST(self.data_dir, download=True, train=False)\n",
    "        \n",
    "    def setup(self, stage=None):\n",
    "        # this can potentially be run on different machines and GPUs hence the actual preperation should be done here\n",
    "        if stage == \"fit\" or stage is None:\n",
    "            trainval_data = torchvision.datasets.MNIST(self.data_dir, train=True, transform=self.transform)\n",
    "            n_trainval = len(trainval_data)\n",
    "            n_train = int(self.train_fraction * n_trainval)\n",
    "            self.train_data = torch.utils.data.Subset(trainval_data, range(0, n_train))\n",
    "            self.val_data = torch.utils.data.Subset(trainval_data, range(n_train, n_trainval))\n",
    "            # if we set this here we get the actual transformed size, which is nice at it does not require prior knowledge as in __init__()\n",
    "            self.dims = tuple(self.train_data[0][0].shape)\n",
    "        if stage == \"test\" or stage is None:\n",
    "            self.test_data = torchvision.datasets.MNIST(self.data_dir, train=False, transform=self.transform)\n",
    "            self.dims = tuple(self.test_data[0][0].shape)\n",
    "        \n",
    "    def train_dataloader(self):\n",
    "        return torch.utils.data.DataLoader(self.train_data, batch_size=self.batch_size, num_workers=self.n_workers, shuffle=True)\n",
    "    \n",
    "    def val_dataloader(self):\n",
    "        return torch.utils.data.DataLoader(self.val_data, batch_size=self.batch_size, num_workers=self.n_workers)\n",
    "    \n",
    "    def test_dataloader(self):\n",
    "        return torch.utils.data.DataLoader(self.test_data, batch_size=self.batch_size, num_workers=self.n_workers)\n",
    "\n",
    "output_size = 64\n",
    "# imagenet\n",
    "norm_mean = [0.485, 0.456, 0.406]\n",
    "norm_std = [0.229, 0.224, 0.225]\n",
    "# default\n",
    "# norm_mean = 0.5\n",
    "# norm_std = 0.5\n",
    "extra_transforms = [\n",
    "    torchvision.transforms.Resize(output_size),\n",
    "    to_3channel,  # we use 3 channels to directly use (pretrained) ResNets\n",
    "    torchvision.transforms.Normalize(norm_mean, norm_std),\n",
    "]\n",
    "mnist_datamodule = MnistDataModule(32, 8, extra_transforms=extra_transforms)\n",
    "mnist_datamodule.prepare_data()\n",
    "mnist_datamodule.setup()\n",
    "mnist_datamodule.size(), len(mnist_datamodule.train_dataloader().dataset), len(mnist_datamodule.val_dataloader().dataset), len(mnist_datamodule.test_dataloader().dataset)"
   ]
  },
  {
   "cell_type": "code",
   "execution_count": 5,
   "metadata": {},
   "outputs": [
    {
     "data": {
      "image/png": "[encoded data removed]",
      "text/plain": [
       "<Figure size 432x288 with 1 Axes>"
      ]
     },
     "metadata": {
      "needs_background": "light"
     },
     "output_type": "display_data"
    }
   ],
   "source": [
    "dataloader = mnist_datamodule.train_dataloader()\n",
    "batch = next(iter(dataloader))\n",
    "# 0: input, 1: target\n",
    "sample_image = batch[0][0]\n",
    "sample_target = batch[1][0]\n",
    "f, ax = plt.subplots()\n",
    "ax.imshow(sample_image.permute(1, 2, 0).clamp(0.0, 1.0))\n",
    "ax.set_title(f\"label: {sample_target.numpy()}\");\n",
    "ax.axis(False);"
   ]
  },
  {
   "cell_type": "code",
   "execution_count": 6,
   "metadata": {},
   "outputs": [
    {
     "data": {
      "text/plain": [
       "\"activation\":          softmax\n",
       "\"data_shape\":          (3, 64, 64)\n",
       "\"learning_rate\":       0.01\n",
       "\"num_classes\":         10\n",
       "\"pretrained\":          False\n",
       "\"scheduler\":           None\n",
       "\"sigmoid_soft_factor\": 1.0"
      ]
     },
     "execution_count": 6,
     "metadata": {},
     "output_type": "execute_result"
    }
   ],
   "source": [
    "class MnistModel(pl.LightningModule):\n",
    "    def __init__(self, data_shape, num_classes, learning_rate, pretrained=False, activation=\"softmax\", sigmoid_soft_factor=1.0, scheduler=\"one_cycle\"):\n",
    "        super().__init__()\n",
    "        self.save_hyperparameters()\n",
    "\n",
    "        resnet = torchvision.models.resnet18(pretrained=pretrained)\n",
    "        fc_layer = torch.nn.Linear(512, num_classes)\n",
    "        resnet.fc = fc_layer\n",
    "        self.resnet = resnet\n",
    "        # this allows the trainer to show input and output sizes in the report (2 is just a sample batch size)\n",
    "        self.example_input_array = torch.zeros(2, *data_shape)\n",
    "        \n",
    "        self.train_acc = pl.metrics.Accuracy(compute_on_step=False)\n",
    "        self.val_acc = pl.metrics.Accuracy(compute_on_step=False)\n",
    "        self.test_acc = pl.metrics.Accuracy(compute_on_step=False)\n",
    "        \n",
    "    def configure_optimizers(self):\n",
    "        optimizer = torch.optim.SGD(self.parameters(), lr=self.hparams.learning_rate)\n",
    "        schedulers = []\n",
    "        if self.hparams.scheduler == \"one_cycle\":\n",
    "            steps_per_epoch = int(trainer.limit_train_batches * len(self.train_dataloader())) # same as batches per epoch\n",
    "            max_epochs = self.trainer.max_epochs\n",
    "            scheduler = torch.optim.lr_scheduler.OneCycleLR(\n",
    "                optimizer,\n",
    "                max_lr=self.hparams.learning_rate,\n",
    "                epochs=max_epochs,\n",
    "                steps_per_epoch=steps_per_epoch,\n",
    "                anneal_strategy=\"cos\", # can be \"linear\" or \"cos\"(default)\n",
    "            )\n",
    "            # \"interval: step\" is required to let the scheduler update per step rather than epoch\n",
    "            schedulers = [{\"scheduler\": scheduler, \"interval\": \"step\", \"frequency\": 1}]\n",
    "        elif self.hparams.scheduler == \"cosine_annealing\":\n",
    "            steps_per_epoch = int(trainer.limit_train_batches * len(self.train_dataloader())) # same as batches per epoch\n",
    "            max_epochs = self.trainer.max_epochs\n",
    "            max_steps = max_epochs * steps_per_epoch\n",
    "            scheduler = torch.optim.lr_scheduler.CosineAnnealingLR(\n",
    "                optimizer,\n",
    "                T_max=max_steps,\n",
    "            )\n",
    "            schedulers = [{\"scheduler\": scheduler, \"interval\": \"step\", \"frequency\": 1}]\n",
    "        return [optimizer], schedulers\n",
    "    \n",
    "    def class_activation(self, x):\n",
    "        if self.hparams.activation == \"softmax\":\n",
    "            return x.softmax(1)\n",
    "        elif self.hparams.activation == \"sigmoid\":\n",
    "            return x.sigmoid()\n",
    "        \n",
    "    def class_loss(self, y_hat, y):\n",
    "        # y_hat: prediction, y: target\n",
    "        if self.hparams.activation == \"softmax\":\n",
    "            return torch.nn.functional.cross_entropy(y_hat, y)\n",
    "        elif self.hparams.activation == \"sigmoid\":\n",
    "            y_onehot = torch.nn.functional.one_hot(y, num_classes=self.hparams.num_classes).float() * self.hparams.sigmoid_soft_factor\n",
    "            return torch.nn.functional.binary_cross_entropy_with_logits(y_hat, y_onehot)\n",
    "    \n",
    "    def _forward(self, x):\n",
    "        return self.resnet(x)\n",
    "    \n",
    "    def training_step(self, batch, batch_nb):\n",
    "        images, targets = batch\n",
    "        \n",
    "        preds = self._forward(images)\n",
    "        loss = self.class_loss(preds, targets)\n",
    "        self.log(\"loss\", loss)\n",
    "        self.train_acc.update(self.class_activation(preds), targets)\n",
    "        # the accuracies are updated here, but only computed and reported at the epoch, see \"compute_on_step=False\", \"on_step=False\", \"on_epoch=True\"\n",
    "        self.log('train_acc', self.train_acc, prog_bar=False, on_step=False, on_epoch=True)\n",
    "        return loss\n",
    "    \n",
    "    def validation_step(self, batch, batch_nb):\n",
    "        images, targets = batch\n",
    "        \n",
    "        preds = self._forward(images)\n",
    "        loss = self.class_loss(preds, targets)\n",
    "        self.log(\"val_loss\", loss)\n",
    "        self.val_acc.update(self.class_activation(preds), targets)\n",
    "        self.log('val_acc', self.val_acc, prog_bar=False, on_step=False, on_epoch=True)\n",
    "        return loss\n",
    "    \n",
    "    def test_step(self, batch, batch_nb):\n",
    "        images, targets = batch\n",
    "        \n",
    "        preds = self._forward(images)\n",
    "        loss = self.class_loss(preds, targets)\n",
    "        self.log(\"test_loss\", loss)\n",
    "        self.test_acc.update(self.class_activation(preds), targets)\n",
    "        self.log('test_acc', self.test_acc, prog_bar=False, on_step=False, on_epoch=True)\n",
    "        return loss\n",
    "    \n",
    "    # this moves data to gpu when forward is called\n",
    "    @auto_move_data\n",
    "    def forward(self, x):\n",
    "        # in pl forward() is intended for inference, hence the activation is done here\n",
    "        logits = self._forward(x)\n",
    "        return self.class_activation(logits)\n",
    "\n",
    "num_classes = 10\n",
    "learning_rate = 1e-2\n",
    "pretrained = False\n",
    "activation = \"softmax\"\n",
    "sigmoid_soft_factor = 1.0 # soft label: this is a multiplier to reduce the one hot 1s in case of sigmoid to a smaller value\n",
    "scheduler = None #\"one_cycle\" #\"one_cycle\" # \"cosine_annealing\"\n",
    "model = MnistModel(\n",
    "    mnist_datamodule.size(), \n",
    "    num_classes, \n",
    "    learning_rate, \n",
    "    pretrained=pretrained, \n",
    "    activation=activation,\n",
    "    sigmoid_soft_factor=sigmoid_soft_factor,\n",
    "    scheduler=scheduler,\n",
    ")\n",
    "model.hparams"
   ]
  },
  {
   "cell_type": "code",
   "execution_count": 7,
   "metadata": {},
   "outputs": [],
   "source": [
    "# run this to show very detailed model information and if model has example_input_array also detailed feature sizes\n",
    "# pl.core.memory.ModelSummary(model, mode=\"full\")"
   ]
  },
  {
   "cell_type": "code",
   "execution_count": 8,
   "metadata": {},
   "outputs": [
    {
     "name": "stdout",
     "output_type": "stream",
     "text": [
      "GPU available: True, used: True\n",
      "TPU available: None, using: 0 TPU cores\n",
      "LOCAL_RANK: 0 - CUDA_VISIBLE_DEVICES: [0,1]\n",
      "Using native 16bit precision.\n",
      "\n",
      "  | Name      | Type     | Params | In sizes       | Out sizes\n",
      "--------------------------------------------------------------------\n",
      "0 | resnet    | ResNet   | 11.2 M | [2, 3, 64, 64] | [2, 10]  \n",
      "1 | train_acc | Accuracy | 0      | ?              | ?        \n",
      "2 | val_acc   | Accuracy | 0      | ?              | ?        \n",
      "3 | test_acc  | Accuracy | 0      | ?              | ?        \n",
      "--------------------------------------------------------------------\n",
      "11.2 M    Trainable params\n",
      "0         Non-trainable params\n",
      "11.2 M    Total params\n"
     ]
    },
    {
     "data": {
      "application/vnd.jupyter.widget-view+json": {
       "model_id": "810f8f58c7c7471cb29fd218cba3ad7d",
       "version_major": 2,
       "version_minor": 0
      },
      "text/plain": [
       "Training: 0it [00:00, ?it/s]"
      ]
     },
     "metadata": {},
     "output_type": "display_data"
    },
    {
     "name": "stderr",
     "output_type": "stream",
     "text": [
      "/home/mtadmin/miniconda3/envs/dev_pytorch17/lib/python3.8/site-packages/pytorch_lightning/utilities/distributed.py:49: RuntimeWarning: You are using `LearningRateMonitor` callback with models that have no learning rate schedulers. Please see documentation for `configure_optimizers` method.\n",
      "  warnings.warn(*args, **kwargs)\n"
     ]
    },
    {
     "data": {
      "text/html": [
       "<style  type=\"text/css\" >\n",
       "#T_9082a_row0_col0,#T_9082a_row0_col1,#T_9082a_row0_col2,#T_9082a_row0_col3,#T_9082a_row0_col4,#T_9082a_row0_col5,#T_9082a_row1_col0,#T_9082a_row1_col1,#T_9082a_row1_col2,#T_9082a_row1_col3,#T_9082a_row1_col4,#T_9082a_row1_col5,#T_9082a_row2_col0,#T_9082a_row2_col1,#T_9082a_row2_col2,#T_9082a_row2_col3,#T_9082a_row2_col4,#T_9082a_row2_col5,#T_9082a_row3_col0,#T_9082a_row3_col1,#T_9082a_row3_col2,#T_9082a_row3_col3,#T_9082a_row3_col4,#T_9082a_row3_col5,#T_9082a_row4_col0,#T_9082a_row4_col1,#T_9082a_row4_col2,#T_9082a_row4_col3,#T_9082a_row4_col4,#T_9082a_row4_col5,#T_9082a_row6_col0,#T_9082a_row6_col1,#T_9082a_row6_col2,#T_9082a_row6_col3,#T_9082a_row6_col4,#T_9082a_row6_col5,#T_9082a_row7_col0,#T_9082a_row7_col1,#T_9082a_row7_col2,#T_9082a_row7_col3,#T_9082a_row7_col4,#T_9082a_row7_col5{\n",
       "            color:  black;\n",
       "        }#T_9082a_row5_col0,#T_9082a_row5_col1,#T_9082a_row5_col2,#T_9082a_row5_col3,#T_9082a_row5_col4,#T_9082a_row5_col5,#T_9082a_row9_col0,#T_9082a_row9_col1,#T_9082a_row9_col2,#T_9082a_row9_col3,#T_9082a_row9_col4,#T_9082a_row9_col5{\n",
       "            color:  red;\n",
       "        }#T_9082a_row8_col0,#T_9082a_row8_col1,#T_9082a_row8_col2,#T_9082a_row8_col3,#T_9082a_row8_col4,#T_9082a_row8_col5{\n",
       "            font-weight:  bold;\n",
       "        }</style><table id=\"T_9082a_\" ><thead>    <tr>        <th class=\"col_heading level0 col0\" >epoch</th>        <th class=\"col_heading level0 col1\" >loss</th>        <th class=\"col_heading level0 col2\" >val_loss</th>        <th class=\"col_heading level0 col3\" >val_acc</th>        <th class=\"col_heading level0 col4\" >train_acc</th>        <th class=\"col_heading level0 col5\" >time</th>    </tr></thead><tbody>\n",
       "                <tr>\n",
       "                                <td id=\"T_9082a_row0_col0\" class=\"data row0 col0\" >0</td>\n",
       "                        <td id=\"T_9082a_row0_col1\" class=\"data row0 col1\" >0.312000</td>\n",
       "                        <td id=\"T_9082a_row0_col2\" class=\"data row0 col2\" >0.279261</td>\n",
       "                        <td id=\"T_9082a_row0_col3\" class=\"data row0 col3\" >0.933444</td>\n",
       "                        <td id=\"T_9082a_row0_col4\" class=\"data row0 col4\" >0.803912</td>\n",
       "                        <td id=\"T_9082a_row0_col5\" class=\"data row0 col5\" >0:00:09</td>\n",
       "            </tr>\n",
       "            <tr>\n",
       "                                <td id=\"T_9082a_row1_col0\" class=\"data row1 col0\" >1</td>\n",
       "                        <td id=\"T_9082a_row1_col1\" class=\"data row1 col1\" >0.239000</td>\n",
       "                        <td id=\"T_9082a_row1_col2\" class=\"data row1 col2\" >0.159426</td>\n",
       "                        <td id=\"T_9082a_row1_col3\" class=\"data row1 col3\" >0.957500</td>\n",
       "                        <td id=\"T_9082a_row1_col4\" class=\"data row1 col4\" >0.939885</td>\n",
       "                        <td id=\"T_9082a_row1_col5\" class=\"data row1 col5\" >0:00:09</td>\n",
       "            </tr>\n",
       "            <tr>\n",
       "                                <td id=\"T_9082a_row2_col0\" class=\"data row2 col0\" >2</td>\n",
       "                        <td id=\"T_9082a_row2_col1\" class=\"data row2 col1\" >0.139000</td>\n",
       "                        <td id=\"T_9082a_row2_col2\" class=\"data row2 col2\" >0.122296</td>\n",
       "                        <td id=\"T_9082a_row2_col3\" class=\"data row2 col3\" >0.965667</td>\n",
       "                        <td id=\"T_9082a_row2_col4\" class=\"data row2 col4\" >0.960878</td>\n",
       "                        <td id=\"T_9082a_row2_col5\" class=\"data row2 col5\" >0:00:09</td>\n",
       "            </tr>\n",
       "            <tr>\n",
       "                                <td id=\"T_9082a_row3_col0\" class=\"data row3 col0\" >3</td>\n",
       "                        <td id=\"T_9082a_row3_col1\" class=\"data row3 col1\" >0.106000</td>\n",
       "                        <td id=\"T_9082a_row3_col2\" class=\"data row3 col2\" >0.099821</td>\n",
       "                        <td id=\"T_9082a_row3_col3\" class=\"data row3 col3\" >0.972333</td>\n",
       "                        <td id=\"T_9082a_row3_col4\" class=\"data row3 col4\" >0.972328</td>\n",
       "                        <td id=\"T_9082a_row3_col5\" class=\"data row3 col5\" >0:00:10</td>\n",
       "            </tr>\n",
       "            <tr>\n",
       "                                <td id=\"T_9082a_row4_col0\" class=\"data row4 col0\" >4</td>\n",
       "                        <td id=\"T_9082a_row4_col1\" class=\"data row4 col1\" >0.068400</td>\n",
       "                        <td id=\"T_9082a_row4_col2\" class=\"data row4 col2\" >0.085297</td>\n",
       "                        <td id=\"T_9082a_row4_col3\" class=\"data row4 col3\" >0.975833</td>\n",
       "                        <td id=\"T_9082a_row4_col4\" class=\"data row4 col4\" >0.975191</td>\n",
       "                        <td id=\"T_9082a_row4_col5\" class=\"data row4 col5\" >0:00:09</td>\n",
       "            </tr>\n",
       "            <tr>\n",
       "                                <td id=\"T_9082a_row5_col0\" class=\"data row5 col0\" >5</td>\n",
       "                        <td id=\"T_9082a_row5_col1\" class=\"data row5 col1\" >0.112000</td>\n",
       "                        <td id=\"T_9082a_row5_col2\" class=\"data row5 col2\" >0.085708</td>\n",
       "                        <td id=\"T_9082a_row5_col3\" class=\"data row5 col3\" >0.975889</td>\n",
       "                        <td id=\"T_9082a_row5_col4\" class=\"data row5 col4\" >0.980200</td>\n",
       "                        <td id=\"T_9082a_row5_col5\" class=\"data row5 col5\" >0:00:09</td>\n",
       "            </tr>\n",
       "            <tr>\n",
       "                                <td id=\"T_9082a_row6_col0\" class=\"data row6 col0\" >6</td>\n",
       "                        <td id=\"T_9082a_row6_col1\" class=\"data row6 col1\" >0.058900</td>\n",
       "                        <td id=\"T_9082a_row6_col2\" class=\"data row6 col2\" >0.067982</td>\n",
       "                        <td id=\"T_9082a_row6_col3\" class=\"data row6 col3\" >0.980167</td>\n",
       "                        <td id=\"T_9082a_row6_col4\" class=\"data row6 col4\" >0.983779</td>\n",
       "                        <td id=\"T_9082a_row6_col5\" class=\"data row6 col5\" >0:00:10</td>\n",
       "            </tr>\n",
       "            <tr>\n",
       "                                <td id=\"T_9082a_row7_col0\" class=\"data row7 col0\" >7</td>\n",
       "                        <td id=\"T_9082a_row7_col1\" class=\"data row7 col1\" >0.076300</td>\n",
       "                        <td id=\"T_9082a_row7_col2\" class=\"data row7 col2\" >0.063983</td>\n",
       "                        <td id=\"T_9082a_row7_col3\" class=\"data row7 col3\" >0.982667</td>\n",
       "                        <td id=\"T_9082a_row7_col4\" class=\"data row7 col4\" >0.984256</td>\n",
       "                        <td id=\"T_9082a_row7_col5\" class=\"data row7 col5\" >0:00:09</td>\n",
       "            </tr>\n",
       "            <tr>\n",
       "                                <td id=\"T_9082a_row8_col0\" class=\"data row8 col0\" >8</td>\n",
       "                        <td id=\"T_9082a_row8_col1\" class=\"data row8 col1\" >0.045600</td>\n",
       "                        <td id=\"T_9082a_row8_col2\" class=\"data row8 col2\" >0.062167</td>\n",
       "                        <td id=\"T_9082a_row8_col3\" class=\"data row8 col3\" >0.981278</td>\n",
       "                        <td id=\"T_9082a_row8_col4\" class=\"data row8 col4\" >0.980677</td>\n",
       "                        <td id=\"T_9082a_row8_col5\" class=\"data row8 col5\" >0:00:09</td>\n",
       "            </tr>\n",
       "            <tr>\n",
       "                                <td id=\"T_9082a_row9_col0\" class=\"data row9 col0\" >9</td>\n",
       "                        <td id=\"T_9082a_row9_col1\" class=\"data row9 col1\" >0.074800</td>\n",
       "                        <td id=\"T_9082a_row9_col2\" class=\"data row9 col2\" >0.062793</td>\n",
       "                        <td id=\"T_9082a_row9_col3\" class=\"data row9 col3\" >0.981667</td>\n",
       "                        <td id=\"T_9082a_row9_col4\" class=\"data row9 col4\" >0.984733</td>\n",
       "                        <td id=\"T_9082a_row9_col5\" class=\"data row9 col5\" >0:00:09</td>\n",
       "            </tr>\n",
       "    </tbody></table>"
      ],
      "text/plain": [
       "<pandas.io.formats.style.Styler at 0x7f50e2299340>"
      ]
     },
     "metadata": {},
     "output_type": "display_data"
    },
    {
     "data": {
      "image/png": "[encoded data removed]",
      "text/plain": [
       "<Figure size 432x288 with 2 Axes>"
      ]
     },
     "metadata": {},
     "output_type": "display_data"
    },
    {
     "name": "stdout",
     "output_type": "stream",
     "text": [
      "runtime: 104 s\n"
     ]
    }
   ],
   "source": [
    "tb_logger = pl.loggers.TensorBoardLogger(\"/home/mtadmin/projects/tensorboard_logs\")\n",
    "\n",
    "plotter = ProgressPlotter()\n",
    "callbacks = [\n",
    "    ProgressBar(),\n",
    "    ProgressPrinter(),\n",
    "    plotter,\n",
    "    LearningRateMonitor(log_momentum=True),\n",
    "]\n",
    "\n",
    "# early_stop_callback = EarlyStopping(\n",
    "#     monitor=\"val_loss\",\n",
    "#     mode=\"min\",\n",
    "#     patience=5,\n",
    "#     verbose=True,\n",
    "# )\n",
    "# callbacks = [early_stop_callback] + callbacks\n",
    "\n",
    "# model_checker = ModelCheckpoint(\n",
    "#     monitor=\"val_loss\",\n",
    "#     mode=\"min\",\n",
    "#     save_last=True, \n",
    "#     save_top_k=1, \n",
    "#     filename=\"best_{epoch}\",\n",
    "# )\n",
    "# callbacks += [model_checker]\n",
    "\n",
    "max_epochs = 10\n",
    "limit_train_batches = 0.1 # 1.0 by default/full set, use this to check training on a smaller train set, also exists for val and test set\n",
    "trainer = pl.Trainer(\n",
    "    max_epochs=max_epochs, \n",
    "    gpus=1,\n",
    "    callbacks=callbacks,\n",
    "    logger=[tb_logger],\n",
    "    precision=16,\n",
    "#     fast_dev_run=True, \n",
    "    limit_train_batches=limit_train_batches,\n",
    ")\n",
    "\n",
    "start_time = time.time()\n",
    "trainer.fit(model, mnist_datamodule)\n",
    "print(f\"runtime: {time.time() - start_time:.0f} s\")"
   ]
  },
  {
   "cell_type": "code",
   "execution_count": 9,
   "metadata": {},
   "outputs": [
    {
     "data": {
      "text/plain": [
       "'/home/mtadmin/projects/tutorials/default/13/checkpoints/epoch=8-step=1178.ckpt'"
      ]
     },
     "execution_count": 9,
     "metadata": {},
     "output_type": "execute_result"
    }
   ],
   "source": [
    "# this gives us the path to the best model from the default modelchecker\n",
    "trainer.checkpoint_callback.best_model_path"
   ]
  },
  {
   "cell_type": "code",
   "execution_count": 10,
   "metadata": {},
   "outputs": [
    {
     "data": {
      "image/png": "[encoded data removed]",
      "text/plain": [
       "<Figure size 432x288 with 2 Axes>"
      ]
     },
     "metadata": {
      "needs_background": "light"
     },
     "output_type": "display_data"
    }
   ],
   "source": [
    "# static plot after training, useful when coming back after training finished\n",
    "plotter.static_plot()"
   ]
  },
  {
   "cell_type": "code",
   "execution_count": 11,
   "metadata": {},
   "outputs": [
    {
     "data": {
      "application/vnd.jupyter.widget-view+json": {
       "model_id": "15fe9b7682874d52b5d604f1dee1cfe5",
       "version_major": 2,
       "version_minor": 0
      },
      "text/plain": [
       "Testing:   0%|          | 0/27 [00:00<?, ?it/s]"
      ]
     },
     "metadata": {},
     "output_type": "display_data"
    },
    {
     "data": {
      "text/plain": [
       "[{'test_loss': 0.05571528896689415, 'test_acc': 0.982699990272522}]"
      ]
     },
     "execution_count": 11,
     "metadata": {},
     "output_type": "execute_result"
    }
   ],
   "source": [
    "trainer.test(verbose=False)"
   ]
  },
  {
   "cell_type": "code",
   "execution_count": 12,
   "metadata": {},
   "outputs": [
    {
     "data": {
      "application/vnd.jupyter.widget-view+json": {
       "model_id": "756dc39967c94b2bb0b3bd036e0e18e9",
       "version_major": 2,
       "version_minor": 0
      },
      "text/plain": [
       "  0%|          | 0/313 [00:00<?, ?it/s]"
      ]
     },
     "metadata": {},
     "output_type": "display_data"
    }
   ],
   "source": [
    "model.eval()\n",
    "all_targets = []\n",
    "all_scores = []\n",
    "for images, targets in tqdm(mnist_datamodule.test_dataloader()):\n",
    "    with torch.no_grad():\n",
    "        scores = model(images).cpu()\n",
    "        all_scores.append(scores)\n",
    "        all_targets.append(targets)\n",
    "        \n",
    "scores = torch.cat(all_scores)\n",
    "targets = torch.cat(all_targets)"
   ]
  },
  {
   "cell_type": "code",
   "execution_count": 13,
   "metadata": {},
   "outputs": [
    {
     "data": {
      "text/plain": [
       "tensor(0.9827)"
      ]
     },
     "execution_count": 13,
     "metadata": {},
     "output_type": "execute_result"
    }
   ],
   "source": [
    "accuracy = (scores.max(1)[1] == targets).sum() / float(len(targets))\n",
    "accuracy"
   ]
  }
 ],
 "metadata": {
  "kernelspec": {
   "display_name": "Python [conda env:dev_pytorch17]",
   "language": "python",
   "name": "conda-env-dev_pytorch17-py"
  },
  "language_info": {
   "codemirror_mode": {
    "name": "ipython",
    "version": 3
   },
   "file_extension": ".py",
   "mimetype": "text/x-python",
   "name": "python",
   "nbconvert_exporter": "python",
   "pygments_lexer": "ipython3",
   "version": "3.8.6"
  }
 },
 "nbformat": 4,
 "nbformat_minor": 4
}
