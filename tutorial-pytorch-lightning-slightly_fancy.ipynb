{
 "cells": [
  {
   "cell_type": "code",
   "execution_count": 1,
   "metadata": {
    "colab": {},
    "colab_type": "code",
    "id": "qdB23YiUA02F"
   },
   "outputs": [],
   "source": [
    "%matplotlib inline\n",
    "%reload_ext autoreload\n",
    "%autoreload 2\n",
    "%load_ext line_profiler"
   ]
  },
  {
   "cell_type": "code",
   "execution_count": 2,
   "metadata": {},
   "outputs": [],
   "source": [
    "import sys, os, warnings, time, logging\n",
    "import torch\n",
    "import pytorch_lightning as pl\n",
    "from pytorch_lightning.core.decorators import auto_move_data\n",
    "from pytorch_lightning.callbacks import EarlyStopping, LearningRateMonitor, ModelCheckpoint\n",
    "\n",
    "import numpy as np\n",
    "import matplotlib.pyplot as plt\n",
    "import torchvision\n",
    "from tqdm.autonotebook import tqdm\n",
    "\n",
    "from lightning_addons.progressbar import ProgressBar\n",
    "from lightning_addons.progressplotter import ProgressPlotter\n",
    "from lightning_addons.progressprinter import ProgressPrinter\n",
    "\n",
    "warnings.filterwarnings(\"ignore\", category=UserWarning)\n",
    "warnings.filterwarnings(\"ignore\", category=DeprecationWarning)\n",
    "# this makes lightning reports not look like errors\n",
    "pl._logger.handlers = [logging.StreamHandler(sys.stdout)]"
   ]
  },
  {
   "cell_type": "code",
   "execution_count": 3,
   "metadata": {},
   "outputs": [],
   "source": [
    "def to_3channel(image):\n",
    "    return image.repeat((3, 1, 1))"
   ]
  },
  {
   "cell_type": "code",
   "execution_count": 4,
   "metadata": {},
   "outputs": [
    {
     "data": {
      "text/plain": [
       "((3, 64, 64), 42000, 18000, 10000)"
      ]
     },
     "execution_count": 4,
     "metadata": {},
     "output_type": "execute_result"
    }
   ],
   "source": [
    "class MnistDataModule(pl.LightningDataModule):\n",
    "    def __init__(self, batch_size, n_workers, train_fraction=0.7, extra_transforms=None, data_dir=\"data/mnist\"):\n",
    "        super().__init__()\n",
    "        self.batch_size = batch_size\n",
    "        self.n_workers = n_workers\n",
    "        self.train_fraction = train_fraction\n",
    "        self.data_dir = data_dir\n",
    "        transforms = [torchvision.transforms.ToTensor(),]\n",
    "        if extra_transforms is not None:\n",
    "            transforms += extra_transforms\n",
    "        self.transform = torchvision.transforms.Compose(transforms)\n",
    "        \n",
    "    def prepare_data(self):\n",
    "        # this is intended to just run the download\n",
    "        torchvision.datasets.MNIST(self.data_dir, download=True, train=True)\n",
    "        torchvision.datasets.MNIST(self.data_dir, download=True, train=False)\n",
    "        \n",
    "    def setup(self, stage=None):\n",
    "        # this can potentially be run on different machines and GPUs hence the actual preperation should be done here\n",
    "        if stage == \"fit\" or stage is None:\n",
    "            trainval_data = torchvision.datasets.MNIST(self.data_dir, train=True, transform=self.transform)\n",
    "            n_trainval = len(trainval_data)\n",
    "            n_train = int(self.train_fraction * n_trainval)\n",
    "            self.train_data = torch.utils.data.Subset(trainval_data, range(0, n_train))\n",
    "            self.val_data = torch.utils.data.Subset(trainval_data, range(n_train, n_trainval))\n",
    "            # if we set this here we get the actual transformed size, which is nice at it does not require prior knowledge as in __init__()\n",
    "            self.dims = tuple(self.train_data[0][0].shape)\n",
    "        if stage == \"test\" or stage is None:\n",
    "            self.test_data = torchvision.datasets.MNIST(self.data_dir, train=False, transform=self.transform)\n",
    "            self.dims = tuple(self.test_data[0][0].shape)\n",
    "        \n",
    "    def train_dataloader(self):\n",
    "        return torch.utils.data.DataLoader(self.train_data, batch_size=self.batch_size, num_workers=self.n_workers, shuffle=True)\n",
    "    \n",
    "    def val_dataloader(self):\n",
    "        return torch.utils.data.DataLoader(self.val_data, batch_size=self.batch_size, num_workers=self.n_workers)\n",
    "    \n",
    "    def test_dataloader(self):\n",
    "        return torch.utils.data.DataLoader(self.test_data, batch_size=self.batch_size, num_workers=self.n_workers)\n",
    "\n",
    "output_size = 64\n",
    "# imagenet\n",
    "norm_mean = [0.485, 0.456, 0.406]\n",
    "norm_std = [0.229, 0.224, 0.225]\n",
    "# default\n",
    "# norm_mean = 0.5\n",
    "# norm_std = 0.5\n",
    "extra_transforms = [\n",
    "    torchvision.transforms.Resize(output_size),\n",
    "    to_3channel,  # we use 3 channels to directly use (pretrained) ResNets\n",
    "    torchvision.transforms.Normalize(norm_mean, norm_std),\n",
    "]\n",
    "mnist_datamodule = MnistDataModule(32, 8, extra_transforms=extra_transforms)\n",
    "mnist_datamodule.prepare_data()\n",
    "mnist_datamodule.setup()\n",
    "mnist_datamodule.size(), len(mnist_datamodule.train_dataloader().dataset), len(mnist_datamodule.val_dataloader().dataset), len(mnist_datamodule.test_dataloader().dataset)"
   ]
  },
  {
   "cell_type": "code",
   "execution_count": 5,
   "metadata": {},
   "outputs": [
    {
     "data": {
      "image/png": "[encoded data removed]",
      "text/plain": [
       "<Figure size 432x288 with 1 Axes>"
      ]
     },
     "metadata": {
      "needs_background": "light"
     },
     "output_type": "display_data"
    }
   ],
   "source": [
    "dataloader = mnist_datamodule.train_dataloader()\n",
    "batch = next(iter(dataloader))\n",
    "# 0: input, 1: target\n",
    "sample_image = batch[0][0]\n",
    "sample_target = batch[1][0]\n",
    "f, ax = plt.subplots()\n",
    "ax.imshow(sample_image.permute(1, 2, 0).clamp(0.0, 1.0))\n",
    "ax.set_title(f\"label: {sample_target.numpy()}\");\n",
    "ax.axis(False);"
   ]
  },
  {
   "cell_type": "code",
   "execution_count": 6,
   "metadata": {},
   "outputs": [
    {
     "data": {
      "text/plain": [
       "\"activation\":          softmax\n",
       "\"data_shape\":          (3, 64, 64)\n",
       "\"learning_rate\":       0.01\n",
       "\"num_classes\":         10\n",
       "\"pretrained\":          False\n",
       "\"scheduler\":           one_cycle\n",
       "\"sigmoid_soft_factor\": 1.0"
      ]
     },
     "execution_count": 6,
     "metadata": {},
     "output_type": "execute_result"
    }
   ],
   "source": [
    "class MnistModel(pl.LightningModule):\n",
    "    def __init__(self, data_shape, num_classes, learning_rate, pretrained=False, activation=\"softmax\", sigmoid_soft_factor=1.0, scheduler=\"one_cycle\"):\n",
    "        super().__init__()\n",
    "        self.save_hyperparameters()\n",
    "\n",
    "        resnet = torchvision.models.resnet18(pretrained=pretrained)\n",
    "        fc_layer = torch.nn.Linear(512, num_classes)\n",
    "        resnet.fc = fc_layer\n",
    "        self.resnet = resnet\n",
    "        # this allows the trainer to show input and output sizes in the report (2 is just a sample batch size)\n",
    "        self.example_input_array = torch.zeros(2, *data_shape)\n",
    "        \n",
    "        self.train_acc = pl.metrics.Accuracy(compute_on_step=False)\n",
    "        self.val_acc = pl.metrics.Accuracy(compute_on_step=False)\n",
    "        self.test_acc = pl.metrics.Accuracy(compute_on_step=False)\n",
    "        \n",
    "    def configure_optimizers(self):\n",
    "        optimizer = torch.optim.SGD(self.parameters(), lr=self.hparams.learning_rate)\n",
    "        schedulers = []\n",
    "        if self.hparams.scheduler == \"one_cycle\":\n",
    "            steps_per_epoch = int(trainer.limit_train_batches * len(self.train_dataloader())) # same as batches per epoch\n",
    "            max_epochs = self.trainer.max_epochs\n",
    "            scheduler = torch.optim.lr_scheduler.OneCycleLR(\n",
    "                optimizer,\n",
    "                max_lr=self.hparams.learning_rate,\n",
    "                epochs=max_epochs,\n",
    "                steps_per_epoch=steps_per_epoch,\n",
    "                anneal_strategy=\"cos\", # can be \"linear\" or \"cos\"(default)\n",
    "            )\n",
    "            # \"interval: step\" is required to let the scheduler update per step rather than epoch\n",
    "            schedulers = [{\"scheduler\": scheduler, \"interval\": \"step\", \"frequency\": 1}]\n",
    "        elif self.hparams.scheduler == \"cosine_annealing\":\n",
    "            steps_per_epoch = int(trainer.limit_train_batches * len(self.train_dataloader())) # same as batches per epoch\n",
    "            max_epochs = self.trainer.max_epochs\n",
    "            max_steps = max_epochs * steps_per_epoch\n",
    "            scheduler = torch.optim.lr_scheduler.CosineAnnealingLR(\n",
    "                optimizer,\n",
    "                T_max=max_steps,\n",
    "            )\n",
    "            schedulers = [{\"scheduler\": scheduler, \"interval\": \"step\", \"frequency\": 1}]\n",
    "        return [optimizer], schedulers\n",
    "    \n",
    "    def class_activation(self, x):\n",
    "        if self.hparams.activation == \"softmax\":\n",
    "            return x.softmax(1)\n",
    "        elif self.hparams.activation == \"sigmoid\":\n",
    "            return x.sigmoid()\n",
    "        \n",
    "    def class_loss(self, y_hat, y):\n",
    "        # y_hat: prediction, y: target\n",
    "        if self.hparams.activation == \"softmax\":\n",
    "            return torch.nn.functional.cross_entropy(y_hat, y)\n",
    "        elif self.hparams.activation == \"sigmoid\":\n",
    "            y_onehot = torch.nn.functional.one_hot(y, num_classes=self.hparams.num_classes).float() * self.hparams.sigmoid_soft_factor\n",
    "            return torch.nn.functional.binary_cross_entropy_with_logits(y_hat, y_onehot)\n",
    "    \n",
    "    def _forward(self, x):\n",
    "        return self.resnet(x)\n",
    "    \n",
    "    def training_step(self, batch, batch_nb):\n",
    "        images, targets = batch\n",
    "        \n",
    "        preds = self._forward(images)\n",
    "        loss = self.class_loss(preds, targets)\n",
    "        self.log(\"loss\", loss)\n",
    "        self.train_acc.update(self.class_activation(preds), targets)\n",
    "        # the accuracies are updated here, but only computed and reported at the epoch, see \"compute_on_step=False\", \"on_step=False\", \"on_epoch=True\"\n",
    "        self.log('train_acc', self.train_acc, prog_bar=False, on_step=False, on_epoch=True)\n",
    "        return loss\n",
    "    \n",
    "    def validation_step(self, batch, batch_nb):\n",
    "        images, targets = batch\n",
    "        \n",
    "        preds = self._forward(images)\n",
    "        loss = self.class_loss(preds, targets)\n",
    "        self.log(\"val_loss\", loss)\n",
    "        self.val_acc.update(self.class_activation(preds), targets)\n",
    "        self.log('val_acc', self.val_acc, prog_bar=False, on_step=False, on_epoch=True)\n",
    "        return loss\n",
    "    \n",
    "    def test_step(self, batch, batch_nb):\n",
    "        images, targets = batch\n",
    "        \n",
    "        preds = self._forward(images)\n",
    "        loss = self.class_loss(preds, targets)\n",
    "        self.log(\"test_loss\", loss)\n",
    "        self.test_acc.update(self.class_activation(preds), targets)\n",
    "        self.log('test_acc', self.test_acc, prog_bar=False, on_step=False, on_epoch=True)\n",
    "        return loss\n",
    "    \n",
    "    # this moves data to gpu when forward is called\n",
    "    @auto_move_data\n",
    "    def forward(self, x):\n",
    "        # in pl forward() is intended for inference, hence the activation is done here\n",
    "        logits = self._forward(x)\n",
    "        return self.class_activation(logits)\n",
    "\n",
    "num_classes = 10\n",
    "learning_rate = 1e-2\n",
    "pretrained = False\n",
    "activation = \"softmax\"\n",
    "sigmoid_soft_factor = 1.0 # soft label: this is a multiplier to reduce the one hot 1s in case of sigmoid to a smaller value\n",
    "scheduler = \"one_cycle\" #\"one_cycle\" # \"cosine_annealing\"\n",
    "model = MnistModel(\n",
    "    mnist_datamodule.size(), \n",
    "    num_classes, \n",
    "    learning_rate, \n",
    "    pretrained=pretrained, \n",
    "    activation=activation,\n",
    "    sigmoid_soft_factor=sigmoid_soft_factor,\n",
    "    scheduler=scheduler,\n",
    ")\n",
    "model.hparams"
   ]
  },
  {
   "cell_type": "code",
   "execution_count": 7,
   "metadata": {},
   "outputs": [],
   "source": [
    "# run this to show very detailed model information and if model has example_input_array also detailed feature sizes\n",
    "# pl.core.memory.ModelSummary(model, mode=\"full\")"
   ]
  },
  {
   "cell_type": "code",
   "execution_count": 8,
   "metadata": {},
   "outputs": [
    {
     "name": "stdout",
     "output_type": "stream",
     "text": [
      "GPU available: True, used: True\n",
      "TPU available: None, using: 0 TPU cores\n",
      "LOCAL_RANK: 0 - CUDA_VISIBLE_DEVICES: [0,1]\n",
      "Using native 16bit precision.\n",
      "131 20\n",
      "\n",
      "  | Name      | Type     | Params | In sizes       | Out sizes\n",
      "--------------------------------------------------------------------\n",
      "0 | resnet    | ResNet   | 11.2 M | [2, 3, 64, 64] | [2, 10]  \n",
      "1 | train_acc | Accuracy | 0      | ?              | ?        \n",
      "2 | val_acc   | Accuracy | 0      | ?              | ?        \n",
      "3 | test_acc  | Accuracy | 0      | ?              | ?        \n",
      "--------------------------------------------------------------------\n",
      "11.2 M    Trainable params\n",
      "0         Non-trainable params\n",
      "11.2 M    Total params\n"
     ]
    },
    {
     "data": {
      "application/vnd.jupyter.widget-view+json": {
       "model_id": "aee509d839c0496ab7a3cf0935b25eaa",
       "version_major": 2,
       "version_minor": 0
      },
      "text/plain": [
       "Training: 0it [00:00, ?it/s]"
      ]
     },
     "metadata": {},
     "output_type": "display_data"
    },
    {
     "data": {
      "text/html": [
       "<style  type=\"text/css\" >\n",
       "#T_43b05_row0_col0,#T_43b05_row0_col1,#T_43b05_row0_col2,#T_43b05_row0_col3,#T_43b05_row0_col4,#T_43b05_row0_col5,#T_43b05_row1_col0,#T_43b05_row1_col1,#T_43b05_row1_col2,#T_43b05_row1_col3,#T_43b05_row1_col4,#T_43b05_row1_col5,#T_43b05_row2_col0,#T_43b05_row2_col1,#T_43b05_row2_col2,#T_43b05_row2_col3,#T_43b05_row2_col4,#T_43b05_row2_col5,#T_43b05_row4_col0,#T_43b05_row4_col1,#T_43b05_row4_col2,#T_43b05_row4_col3,#T_43b05_row4_col4,#T_43b05_row4_col5,#T_43b05_row5_col0,#T_43b05_row5_col1,#T_43b05_row5_col2,#T_43b05_row5_col3,#T_43b05_row5_col4,#T_43b05_row5_col5,#T_43b05_row6_col0,#T_43b05_row6_col1,#T_43b05_row6_col2,#T_43b05_row6_col3,#T_43b05_row6_col4,#T_43b05_row6_col5,#T_43b05_row9_col0,#T_43b05_row9_col1,#T_43b05_row9_col2,#T_43b05_row9_col3,#T_43b05_row9_col4,#T_43b05_row9_col5,#T_43b05_row10_col0,#T_43b05_row10_col1,#T_43b05_row10_col2,#T_43b05_row10_col3,#T_43b05_row10_col4,#T_43b05_row10_col5,#T_43b05_row12_col0,#T_43b05_row12_col1,#T_43b05_row12_col2,#T_43b05_row12_col3,#T_43b05_row12_col4,#T_43b05_row12_col5,#T_43b05_row14_col0,#T_43b05_row14_col1,#T_43b05_row14_col2,#T_43b05_row14_col3,#T_43b05_row14_col4,#T_43b05_row14_col5,#T_43b05_row15_col0,#T_43b05_row15_col1,#T_43b05_row15_col2,#T_43b05_row15_col3,#T_43b05_row15_col4,#T_43b05_row15_col5,#T_43b05_row16_col0,#T_43b05_row16_col1,#T_43b05_row16_col2,#T_43b05_row16_col3,#T_43b05_row16_col4,#T_43b05_row16_col5,#T_43b05_row17_col0,#T_43b05_row17_col1,#T_43b05_row17_col2,#T_43b05_row17_col3,#T_43b05_row17_col4,#T_43b05_row17_col5,#T_43b05_row18_col0,#T_43b05_row18_col1,#T_43b05_row18_col2,#T_43b05_row18_col3,#T_43b05_row18_col4,#T_43b05_row18_col5{\n",
       "            color:  black;\n",
       "        }#T_43b05_row3_col0,#T_43b05_row3_col1,#T_43b05_row3_col2,#T_43b05_row3_col3,#T_43b05_row3_col4,#T_43b05_row3_col5,#T_43b05_row7_col0,#T_43b05_row7_col1,#T_43b05_row7_col2,#T_43b05_row7_col3,#T_43b05_row7_col4,#T_43b05_row7_col5,#T_43b05_row8_col0,#T_43b05_row8_col1,#T_43b05_row8_col2,#T_43b05_row8_col3,#T_43b05_row8_col4,#T_43b05_row8_col5,#T_43b05_row11_col0,#T_43b05_row11_col1,#T_43b05_row11_col2,#T_43b05_row11_col3,#T_43b05_row11_col4,#T_43b05_row11_col5,#T_43b05_row13_col0,#T_43b05_row13_col1,#T_43b05_row13_col2,#T_43b05_row13_col3,#T_43b05_row13_col4,#T_43b05_row13_col5{\n",
       "            color:  red;\n",
       "        }#T_43b05_row19_col0,#T_43b05_row19_col1,#T_43b05_row19_col2,#T_43b05_row19_col3,#T_43b05_row19_col4,#T_43b05_row19_col5{\n",
       "            font-weight:  bold;\n",
       "        }</style><table id=\"T_43b05_\" ><thead>    <tr>        <th class=\"col_heading level0 col0\" >epoch</th>        <th class=\"col_heading level0 col1\" >loss</th>        <th class=\"col_heading level0 col2\" >val_loss</th>        <th class=\"col_heading level0 col3\" >val_acc</th>        <th class=\"col_heading level0 col4\" >train_acc</th>        <th class=\"col_heading level0 col5\" >time</th>    </tr></thead><tbody>\n",
       "                <tr>\n",
       "                                <td id=\"T_43b05_row0_col0\" class=\"data row0 col0\" >0</td>\n",
       "                        <td id=\"T_43b05_row0_col1\" class=\"data row0 col1\" >0.417000</td>\n",
       "                        <td id=\"T_43b05_row0_col2\" class=\"data row0 col2\" >0.290635</td>\n",
       "                        <td id=\"T_43b05_row0_col3\" class=\"data row0 col3\" >0.922222</td>\n",
       "                        <td id=\"T_43b05_row0_col4\" class=\"data row0 col4\" >0.641221</td>\n",
       "                        <td id=\"T_43b05_row0_col5\" class=\"data row0 col5\" >0:00:10</td>\n",
       "            </tr>\n",
       "            <tr>\n",
       "                                <td id=\"T_43b05_row1_col0\" class=\"data row1 col0\" >1</td>\n",
       "                        <td id=\"T_43b05_row1_col1\" class=\"data row1 col1\" >0.162000</td>\n",
       "                        <td id=\"T_43b05_row1_col2\" class=\"data row1 col2\" >0.150249</td>\n",
       "                        <td id=\"T_43b05_row1_col3\" class=\"data row1 col3\" >0.954278</td>\n",
       "                        <td id=\"T_43b05_row1_col4\" class=\"data row1 col4\" >0.937977</td>\n",
       "                        <td id=\"T_43b05_row1_col5\" class=\"data row1 col5\" >0:00:10</td>\n",
       "            </tr>\n",
       "            <tr>\n",
       "                                <td id=\"T_43b05_row2_col0\" class=\"data row2 col0\" >2</td>\n",
       "                        <td id=\"T_43b05_row2_col1\" class=\"data row2 col1\" >0.146000</td>\n",
       "                        <td id=\"T_43b05_row2_col2\" class=\"data row2 col2\" >0.126144</td>\n",
       "                        <td id=\"T_43b05_row2_col3\" class=\"data row2 col3\" >0.961111</td>\n",
       "                        <td id=\"T_43b05_row2_col4\" class=\"data row2 col4\" >0.955153</td>\n",
       "                        <td id=\"T_43b05_row2_col5\" class=\"data row2 col5\" >0:00:09</td>\n",
       "            </tr>\n",
       "            <tr>\n",
       "                                <td id=\"T_43b05_row3_col0\" class=\"data row3 col0\" >3</td>\n",
       "                        <td id=\"T_43b05_row3_col1\" class=\"data row3 col1\" >0.112000</td>\n",
       "                        <td id=\"T_43b05_row3_col2\" class=\"data row3 col2\" >0.133997</td>\n",
       "                        <td id=\"T_43b05_row3_col3\" class=\"data row3 col3\" >0.957778</td>\n",
       "                        <td id=\"T_43b05_row3_col4\" class=\"data row3 col4\" >0.961832</td>\n",
       "                        <td id=\"T_43b05_row3_col5\" class=\"data row3 col5\" >0:00:09</td>\n",
       "            </tr>\n",
       "            <tr>\n",
       "                                <td id=\"T_43b05_row4_col0\" class=\"data row4 col0\" >4</td>\n",
       "                        <td id=\"T_43b05_row4_col1\" class=\"data row4 col1\" >0.088200</td>\n",
       "                        <td id=\"T_43b05_row4_col2\" class=\"data row4 col2\" >0.117415</td>\n",
       "                        <td id=\"T_43b05_row4_col3\" class=\"data row4 col3\" >0.964111</td>\n",
       "                        <td id=\"T_43b05_row4_col4\" class=\"data row4 col4\" >0.969227</td>\n",
       "                        <td id=\"T_43b05_row4_col5\" class=\"data row4 col5\" >0:00:10</td>\n",
       "            </tr>\n",
       "            <tr>\n",
       "                                <td id=\"T_43b05_row5_col0\" class=\"data row5 col0\" >5</td>\n",
       "                        <td id=\"T_43b05_row5_col1\" class=\"data row5 col1\" >0.095000</td>\n",
       "                        <td id=\"T_43b05_row5_col2\" class=\"data row5 col2\" >0.114856</td>\n",
       "                        <td id=\"T_43b05_row5_col3\" class=\"data row5 col3\" >0.966389</td>\n",
       "                        <td id=\"T_43b05_row5_col4\" class=\"data row5 col4\" >0.968511</td>\n",
       "                        <td id=\"T_43b05_row5_col5\" class=\"data row5 col5\" >0:00:09</td>\n",
       "            </tr>\n",
       "            <tr>\n",
       "                                <td id=\"T_43b05_row6_col0\" class=\"data row6 col0\" >6</td>\n",
       "                        <td id=\"T_43b05_row6_col1\" class=\"data row6 col1\" >0.125000</td>\n",
       "                        <td id=\"T_43b05_row6_col2\" class=\"data row6 col2\" >0.062783</td>\n",
       "                        <td id=\"T_43b05_row6_col3\" class=\"data row6 col3\" >0.980389</td>\n",
       "                        <td id=\"T_43b05_row6_col4\" class=\"data row6 col4\" >0.972805</td>\n",
       "                        <td id=\"T_43b05_row6_col5\" class=\"data row6 col5\" >0:00:09</td>\n",
       "            </tr>\n",
       "            <tr>\n",
       "                                <td id=\"T_43b05_row7_col0\" class=\"data row7 col0\" >7</td>\n",
       "                        <td id=\"T_43b05_row7_col1\" class=\"data row7 col1\" >0.098500</td>\n",
       "                        <td id=\"T_43b05_row7_col2\" class=\"data row7 col2\" >0.068753</td>\n",
       "                        <td id=\"T_43b05_row7_col3\" class=\"data row7 col3\" >0.979944</td>\n",
       "                        <td id=\"T_43b05_row7_col4\" class=\"data row7 col4\" >0.975668</td>\n",
       "                        <td id=\"T_43b05_row7_col5\" class=\"data row7 col5\" >0:00:09</td>\n",
       "            </tr>\n",
       "            <tr>\n",
       "                                <td id=\"T_43b05_row8_col0\" class=\"data row8 col0\" >8</td>\n",
       "                        <td id=\"T_43b05_row8_col1\" class=\"data row8 col1\" >0.070200</td>\n",
       "                        <td id=\"T_43b05_row8_col2\" class=\"data row8 col2\" >0.080075</td>\n",
       "                        <td id=\"T_43b05_row8_col3\" class=\"data row8 col3\" >0.976833</td>\n",
       "                        <td id=\"T_43b05_row8_col4\" class=\"data row8 col4\" >0.979485</td>\n",
       "                        <td id=\"T_43b05_row8_col5\" class=\"data row8 col5\" >0:00:09</td>\n",
       "            </tr>\n",
       "            <tr>\n",
       "                                <td id=\"T_43b05_row9_col0\" class=\"data row9 col0\" >9</td>\n",
       "                        <td id=\"T_43b05_row9_col1\" class=\"data row9 col1\" >0.039300</td>\n",
       "                        <td id=\"T_43b05_row9_col2\" class=\"data row9 col2\" >0.050572</td>\n",
       "                        <td id=\"T_43b05_row9_col3\" class=\"data row9 col3\" >0.984556</td>\n",
       "                        <td id=\"T_43b05_row9_col4\" class=\"data row9 col4\" >0.981393</td>\n",
       "                        <td id=\"T_43b05_row9_col5\" class=\"data row9 col5\" >0:00:09</td>\n",
       "            </tr>\n",
       "            <tr>\n",
       "                                <td id=\"T_43b05_row10_col0\" class=\"data row10 col0\" >10</td>\n",
       "                        <td id=\"T_43b05_row10_col1\" class=\"data row10 col1\" >0.039600</td>\n",
       "                        <td id=\"T_43b05_row10_col2\" class=\"data row10 col2\" >0.046140</td>\n",
       "                        <td id=\"T_43b05_row10_col3\" class=\"data row10 col3\" >0.986444</td>\n",
       "                        <td id=\"T_43b05_row10_col4\" class=\"data row10 col4\" >0.983540</td>\n",
       "                        <td id=\"T_43b05_row10_col5\" class=\"data row10 col5\" >0:00:10</td>\n",
       "            </tr>\n",
       "            <tr>\n",
       "                                <td id=\"T_43b05_row11_col0\" class=\"data row11 col0\" >11</td>\n",
       "                        <td id=\"T_43b05_row11_col1\" class=\"data row11 col1\" >0.064200</td>\n",
       "                        <td id=\"T_43b05_row11_col2\" class=\"data row11 col2\" >0.075094</td>\n",
       "                        <td id=\"T_43b05_row11_col3\" class=\"data row11 col3\" >0.978611</td>\n",
       "                        <td id=\"T_43b05_row11_col4\" class=\"data row11 col4\" >0.986641</td>\n",
       "                        <td id=\"T_43b05_row11_col5\" class=\"data row11 col5\" >0:00:09</td>\n",
       "            </tr>\n",
       "            <tr>\n",
       "                                <td id=\"T_43b05_row12_col0\" class=\"data row12 col0\" >12</td>\n",
       "                        <td id=\"T_43b05_row12_col1\" class=\"data row12 col1\" >0.046400</td>\n",
       "                        <td id=\"T_43b05_row12_col2\" class=\"data row12 col2\" >0.049042</td>\n",
       "                        <td id=\"T_43b05_row12_col3\" class=\"data row12 col3\" >0.985500</td>\n",
       "                        <td id=\"T_43b05_row12_col4\" class=\"data row12 col4\" >0.986641</td>\n",
       "                        <td id=\"T_43b05_row12_col5\" class=\"data row12 col5\" >0:00:09</td>\n",
       "            </tr>\n",
       "            <tr>\n",
       "                                <td id=\"T_43b05_row13_col0\" class=\"data row13 col0\" >13</td>\n",
       "                        <td id=\"T_43b05_row13_col1\" class=\"data row13 col1\" >0.056000</td>\n",
       "                        <td id=\"T_43b05_row13_col2\" class=\"data row13 col2\" >0.051048</td>\n",
       "                        <td id=\"T_43b05_row13_col3\" class=\"data row13 col3\" >0.985000</td>\n",
       "                        <td id=\"T_43b05_row13_col4\" class=\"data row13 col4\" >0.987595</td>\n",
       "                        <td id=\"T_43b05_row13_col5\" class=\"data row13 col5\" >0:00:09</td>\n",
       "            </tr>\n",
       "            <tr>\n",
       "                                <td id=\"T_43b05_row14_col0\" class=\"data row14 col0\" >14</td>\n",
       "                        <td id=\"T_43b05_row14_col1\" class=\"data row14 col1\" >0.029600</td>\n",
       "                        <td id=\"T_43b05_row14_col2\" class=\"data row14 col2\" >0.038443</td>\n",
       "                        <td id=\"T_43b05_row14_col3\" class=\"data row14 col3\" >0.989111</td>\n",
       "                        <td id=\"T_43b05_row14_col4\" class=\"data row14 col4\" >0.990458</td>\n",
       "                        <td id=\"T_43b05_row14_col5\" class=\"data row14 col5\" >0:00:10</td>\n",
       "            </tr>\n",
       "            <tr>\n",
       "                                <td id=\"T_43b05_row15_col0\" class=\"data row15 col0\" >15</td>\n",
       "                        <td id=\"T_43b05_row15_col1\" class=\"data row15 col1\" >0.023300</td>\n",
       "                        <td id=\"T_43b05_row15_col2\" class=\"data row15 col2\" >0.037018</td>\n",
       "                        <td id=\"T_43b05_row15_col3\" class=\"data row15 col3\" >0.989167</td>\n",
       "                        <td id=\"T_43b05_row15_col4\" class=\"data row15 col4\" >0.993082</td>\n",
       "                        <td id=\"T_43b05_row15_col5\" class=\"data row15 col5\" >0:00:10</td>\n",
       "            </tr>\n",
       "            <tr>\n",
       "                                <td id=\"T_43b05_row16_col0\" class=\"data row16 col0\" >16</td>\n",
       "                        <td id=\"T_43b05_row16_col1\" class=\"data row16 col1\" >0.011200</td>\n",
       "                        <td id=\"T_43b05_row16_col2\" class=\"data row16 col2\" >0.035947</td>\n",
       "                        <td id=\"T_43b05_row16_col3\" class=\"data row16 col3\" >0.989611</td>\n",
       "                        <td id=\"T_43b05_row16_col4\" class=\"data row16 col4\" >0.994275</td>\n",
       "                        <td id=\"T_43b05_row16_col5\" class=\"data row16 col5\" >0:00:09</td>\n",
       "            </tr>\n",
       "            <tr>\n",
       "                                <td id=\"T_43b05_row17_col0\" class=\"data row17 col0\" >17</td>\n",
       "                        <td id=\"T_43b05_row17_col1\" class=\"data row17 col1\" >0.015400</td>\n",
       "                        <td id=\"T_43b05_row17_col2\" class=\"data row17 col2\" >0.032072</td>\n",
       "                        <td id=\"T_43b05_row17_col3\" class=\"data row17 col3\" >0.991111</td>\n",
       "                        <td id=\"T_43b05_row17_col4\" class=\"data row17 col4\" >0.993082</td>\n",
       "                        <td id=\"T_43b05_row17_col5\" class=\"data row17 col5\" >0:00:10</td>\n",
       "            </tr>\n",
       "            <tr>\n",
       "                                <td id=\"T_43b05_row18_col0\" class=\"data row18 col0\" >18</td>\n",
       "                        <td id=\"T_43b05_row18_col1\" class=\"data row18 col1\" >0.028800</td>\n",
       "                        <td id=\"T_43b05_row18_col2\" class=\"data row18 col2\" >0.032050</td>\n",
       "                        <td id=\"T_43b05_row18_col3\" class=\"data row18 col3\" >0.990944</td>\n",
       "                        <td id=\"T_43b05_row18_col4\" class=\"data row18 col4\" >0.993321</td>\n",
       "                        <td id=\"T_43b05_row18_col5\" class=\"data row18 col5\" >0:00:09</td>\n",
       "            </tr>\n",
       "            <tr>\n",
       "                                <td id=\"T_43b05_row19_col0\" class=\"data row19 col0\" >19</td>\n",
       "                        <td id=\"T_43b05_row19_col1\" class=\"data row19 col1\" >0.010300</td>\n",
       "                        <td id=\"T_43b05_row19_col2\" class=\"data row19 col2\" >0.031315</td>\n",
       "                        <td id=\"T_43b05_row19_col3\" class=\"data row19 col3\" >0.991222</td>\n",
       "                        <td id=\"T_43b05_row19_col4\" class=\"data row19 col4\" >0.995468</td>\n",
       "                        <td id=\"T_43b05_row19_col5\" class=\"data row19 col5\" >0:00:09</td>\n",
       "            </tr>\n",
       "    </tbody></table>"
      ],
      "text/plain": [
       "<pandas.io.formats.style.Styler at 0x7f7d185af370>"
      ]
     },
     "metadata": {},
     "output_type": "display_data"
    },
    {
     "data": {
      "image/png": "[encoded data removed]",
      "text/plain": [
       "<Figure size 432x288 with 2 Axes>"
      ]
     },
     "metadata": {},
     "output_type": "display_data"
    },
    {
     "name": "stdout",
     "output_type": "stream",
     "text": [
      "runtime: 207 s\n"
     ]
    }
   ],
   "source": [
    "tb_logger = pl.loggers.TensorBoardLogger(\"/home/mtadmin/projects/tensorboard_logs\")\n",
    "\n",
    "plotter = ProgressPlotter()\n",
    "callbacks = [\n",
    "    ProgressBar(),\n",
    "    ProgressPrinter(),\n",
    "    plotter,\n",
    "    LearningRateMonitor(),\n",
    "]\n",
    "\n",
    "# early_stop_callback = EarlyStopping(\n",
    "#     monitor=\"val_loss\",\n",
    "#     mode=\"min\",\n",
    "#     patience=5,\n",
    "#     verbose=True,\n",
    "# )\n",
    "# callbacks = [early_stop_callback] + callbacks\n",
    "\n",
    "max_epochs = 20\n",
    "limit_train_batches = 0.1 # 1.0 by default/full set, use this to check training on a smaller train set, also exists for val and test set\n",
    "trainer = pl.Trainer(\n",
    "    max_epochs=max_epochs, \n",
    "    gpus=1,\n",
    "    callbacks=callbacks,\n",
    "    logger=[tb_logger],\n",
    "    precision=16,\n",
    "#     fast_dev_run=True, \n",
    "    limit_train_batches=limit_train_batches,\n",
    ")\n",
    "\n",
    "start_time = time.time()\n",
    "trainer.fit(model, mnist_datamodule)\n",
    "print(f\"runtime: {time.time() - start_time:.0f} s\")"
   ]
  },
  {
   "cell_type": "code",
   "execution_count": 9,
   "metadata": {},
   "outputs": [
    {
     "data": {
      "application/vnd.jupyter.widget-view+json": {
       "model_id": "edcf2c1cd8504bae9bb880fab75a593b",
       "version_major": 2,
       "version_minor": 0
      },
      "text/plain": [
       "Testing:   0%|          | 0/27 [00:00<?, ?it/s]"
      ]
     },
     "metadata": {},
     "output_type": "display_data"
    },
    {
     "data": {
      "text/plain": [
       "[{'test_loss': 0.02023894712328911, 'test_acc': 0.9934999942779541}]"
      ]
     },
     "execution_count": 9,
     "metadata": {},
     "output_type": "execute_result"
    }
   ],
   "source": [
    "trainer.test(verbose=False)"
   ]
  },
  {
   "cell_type": "code",
   "execution_count": 10,
   "metadata": {},
   "outputs": [
    {
     "data": {
      "application/vnd.jupyter.widget-view+json": {
       "model_id": "9687112da53a40db870f77276dab81ea",
       "version_major": 2,
       "version_minor": 0
      },
      "text/plain": [
       "  0%|          | 0/313 [00:00<?, ?it/s]"
      ]
     },
     "metadata": {},
     "output_type": "display_data"
    }
   ],
   "source": [
    "model.eval()\n",
    "all_targets = []\n",
    "all_scores = []\n",
    "for images, targets in tqdm(mnist_datamodule.test_dataloader()):\n",
    "    with torch.no_grad():\n",
    "        scores = model(images).cpu()\n",
    "        all_scores.append(scores)\n",
    "        all_targets.append(targets)\n",
    "        \n",
    "scores = torch.cat(all_scores)\n",
    "targets = torch.cat(all_targets)"
   ]
  },
  {
   "cell_type": "code",
   "execution_count": 11,
   "metadata": {},
   "outputs": [
    {
     "data": {
      "text/plain": [
       "tensor(0.9935)"
      ]
     },
     "execution_count": 11,
     "metadata": {},
     "output_type": "execute_result"
    }
   ],
   "source": [
    "accuracy = (scores.max(1)[1] == targets).sum() / float(len(targets))\n",
    "accuracy"
   ]
  }
 ],
 "metadata": {
  "kernelspec": {
   "display_name": "Python [conda env:dev_pytorch17]",
   "language": "python",
   "name": "conda-env-dev_pytorch17-py"
  },
  "language_info": {
   "codemirror_mode": {
    "name": "ipython",
    "version": 3
   },
   "file_extension": ".py",
   "mimetype": "text/x-python",
   "name": "python",
   "nbconvert_exporter": "python",
   "pygments_lexer": "ipython3",
   "version": "3.8.6"
  }
 },
 "nbformat": 4,
 "nbformat_minor": 4
}
