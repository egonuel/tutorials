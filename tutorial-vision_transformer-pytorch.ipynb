{
 "cells": [
  {
   "cell_type": "code",
   "execution_count": 1,
   "metadata": {
    "colab": {},
    "colab_type": "code",
    "id": "qdB23YiUA02F"
   },
   "outputs": [],
   "source": [
    "%matplotlib inline\n",
    "%reload_ext autoreload\n",
    "%autoreload 2\n",
    "%load_ext line_profiler"
   ]
  },
  {
   "cell_type": "code",
   "execution_count": 2,
   "metadata": {},
   "outputs": [],
   "source": [
    "# select/limit gpu availability to a single device\n",
    "import os\n",
    "os.environ[\"CUDA_VISIBLE_DEVICES\"] = \"0\""
   ]
  },
  {
   "cell_type": "code",
   "execution_count": 3,
   "metadata": {},
   "outputs": [
    {
     "name": "stdout",
     "output_type": "stream",
     "text": [
      "python 3.8.8 | packaged by conda-forge | (default, Feb 20 2021, 16:22:27) \n",
      "[GCC 9.3.0] /home/mtadmin/miniconda3/envs/dev_pytorch18/bin/python\n",
      "pytorch 1.8.0\n",
      "torchvision 0.9.0\n",
      "pytorch-lightning 1.2.4\n"
     ]
    }
   ],
   "source": [
    "import sys, os, warnings, time, logging\n",
    "from functools import partial\n",
    "import copy\n",
    "import torch\n",
    "import torch.nn as nn\n",
    "import pytorch_lightning as pl\n",
    "from pytorch_lightning.core.decorators import auto_move_data\n",
    "from pytorch_lightning.callbacks import EarlyStopping, LearningRateMonitor, ModelCheckpoint\n",
    "from einops import rearrange, repeat\n",
    "\n",
    "import numpy as np\n",
    "import matplotlib.pyplot as plt\n",
    "import torchvision\n",
    "from tqdm.autonotebook import tqdm\n",
    "\n",
    "from lightning_addons.progressbar import ProgressBar\n",
    "from lightning_addons.progressplotter import ProgressPlotter\n",
    "from lightning_addons.progressprinter import ProgressPrinter\n",
    "\n",
    "warnings.filterwarnings(\"ignore\", category=UserWarning)\n",
    "warnings.filterwarnings(\"ignore\", category=DeprecationWarning)\n",
    "# this makes lightning reports not look like errors\n",
    "pl._logger.handlers = [logging.StreamHandler(sys.stdout)]\n",
    "\n",
    "print(\"python\", sys.version, sys.executable)\n",
    "print(\"pytorch\", torch.__version__)\n",
    "print(\"torchvision\", torchvision.__version__)\n",
    "print(\"pytorch-lightning\", pl.__version__)"
   ]
  },
  {
   "cell_type": "code",
   "execution_count": 4,
   "metadata": {},
   "outputs": [],
   "source": [
    "def to_3channel(image):\n",
    "    return image.repeat((3, 1, 1))"
   ]
  },
  {
   "cell_type": "markdown",
   "metadata": {},
   "source": [
    "## mnist"
   ]
  },
  {
   "cell_type": "code",
   "execution_count": 5,
   "metadata": {},
   "outputs": [
    {
     "data": {
      "text/plain": [
       "((3, 28, 28), 42000, 18000, 10000)"
      ]
     },
     "execution_count": 5,
     "metadata": {},
     "output_type": "execute_result"
    }
   ],
   "source": [
    "class MnistDataModule(pl.LightningDataModule):\n",
    "    def __init__(self, batch_size, n_workers, train_fraction=0.7, extra_transforms=None, data_dir=\"data/mnist\"):\n",
    "        super().__init__()\n",
    "        self.batch_size = batch_size\n",
    "        self.n_workers = n_workers\n",
    "        self.train_fraction = train_fraction\n",
    "        self.data_dir = data_dir\n",
    "        transforms = [torchvision.transforms.ToTensor(),]\n",
    "        if extra_transforms is not None:\n",
    "            transforms += extra_transforms\n",
    "        self.transform = torchvision.transforms.Compose(transforms)\n",
    "        \n",
    "    def prepare_data(self):\n",
    "        # this is intended to just run the download\n",
    "        torchvision.datasets.MNIST(self.data_dir, download=True, train=True)\n",
    "        torchvision.datasets.MNIST(self.data_dir, download=True, train=False)\n",
    "        \n",
    "    def setup(self, stage=None):\n",
    "        # this can potentially be run on different machines and GPUs hence the actual preperation should be done here\n",
    "        if stage == \"fit\" or stage is None:\n",
    "            trainval_data = torchvision.datasets.MNIST(self.data_dir, train=True, transform=self.transform)\n",
    "            n_trainval = len(trainval_data)\n",
    "            n_train = int(self.train_fraction * n_trainval)\n",
    "            self.train_data = torch.utils.data.Subset(trainval_data, range(0, n_train))\n",
    "            self.val_data = torch.utils.data.Subset(trainval_data, range(n_train, n_trainval))\n",
    "            # if we set this here we get the actual transformed size, which is nice at it does not require prior knowledge as in __init__()\n",
    "            self.dims = tuple(self.train_data[0][0].shape)\n",
    "        if stage == \"test\" or stage is None:\n",
    "            self.test_data = torchvision.datasets.MNIST(self.data_dir, train=False, transform=self.transform)\n",
    "            self.dims = tuple(self.test_data[0][0].shape)\n",
    "        \n",
    "    def train_dataloader(self):\n",
    "        return torch.utils.data.DataLoader(self.train_data, batch_size=self.batch_size, num_workers=self.n_workers, shuffle=True)\n",
    "    \n",
    "    def val_dataloader(self):\n",
    "        return torch.utils.data.DataLoader(self.val_data, batch_size=self.batch_size, num_workers=self.n_workers)\n",
    "    \n",
    "    def test_dataloader(self):\n",
    "        return torch.utils.data.DataLoader(self.test_data, batch_size=self.batch_size, num_workers=self.n_workers)\n",
    "\n",
    "output_size = 28\n",
    "\n",
    "# data standard normalization parameters:\n",
    "# to compute mean and std\n",
    "# norm_mean = 0.\n",
    "# norm_std = 1.\n",
    "# default\n",
    "# norm_mean = 0.5\n",
    "# norm_std = 0.5\n",
    "# imagenet\n",
    "# norm_mean = [0.485, 0.456, 0.406]\n",
    "# norm_std = [0.229, 0.224, 0.225]\n",
    "# mnist \n",
    "norm_mean = [0.1311, 0.1311, 0.1311]\n",
    "norm_std = [0.3087, 0.3087, 0.3087]\n",
    "\n",
    "# TODO: we can do better by actually computing these values from mnist\n",
    "extra_transforms = [\n",
    "    torchvision.transforms.Resize(output_size),\n",
    "    to_3channel,  # we use 3 channels to directly use (pretrained) ResNets\n",
    "    torchvision.transforms.Normalize(norm_mean, norm_std),\n",
    "]\n",
    "mnist_data = MnistDataModule(32, 8, extra_transforms=extra_transforms)\n",
    "mnist_data.prepare_data()\n",
    "mnist_data.setup()\n",
    "mnist_data.size(), len(mnist_data.train_dataloader().dataset), len(mnist_data.val_dataloader().dataset), len(mnist_data.test_dataloader().dataset)"
   ]
  },
  {
   "cell_type": "markdown",
   "metadata": {},
   "source": [
    "## select dataset"
   ]
  },
  {
   "cell_type": "code",
   "execution_count": 6,
   "metadata": {},
   "outputs": [],
   "source": [
    "data = mnist_data"
   ]
  },
  {
   "cell_type": "markdown",
   "metadata": {},
   "source": [
    "## compute normalization stats"
   ]
  },
  {
   "cell_type": "code",
   "execution_count": 7,
   "metadata": {},
   "outputs": [],
   "source": [
    "# # compute mean and std etc\n",
    "# input_key = 0\n",
    "# def collect_stats(sample):\n",
    "#     image = sample[input_key]\n",
    "#     return image.sum((1, 2)), (image ** 2).sum((1, 2))#, image.mean((1, 2)), image.min((1, 2)), image.max((1, 2))\n",
    "\n",
    "# all_stats = [collect_stats(sample) for sample in tqdm(data.train_dataloader().dataset)]\n",
    "# sums, squared_sums= [torch.stack(stats, 0) for stats in (zip(*all_stats))]\n",
    "# # # , means, mins, maxs \n",
    "# input_shape = data.train_dataloader().dataset[0][input_key].shape\n",
    "# input_area = input_shape[1] * input_shape[2]\n",
    "\n",
    "# ds_mean = sums.mean(0) / input_area\n",
    "# ds_std = (squared_sums.mean(0) / input_area - ds_mean ** 2).sqrt()\n",
    "# ds_mean, ds_std"
   ]
  },
  {
   "cell_type": "markdown",
   "metadata": {},
   "source": [
    "## check samples"
   ]
  },
  {
   "cell_type": "code",
   "execution_count": 8,
   "metadata": {},
   "outputs": [
    {
     "data": {
      "image/png": "[encoded data removed]",
      "text/plain": [
       "<Figure size 720x360 with 8 Axes>"
      ]
     },
     "metadata": {
      "needs_background": "light"
     },
     "output_type": "display_data"
    }
   ],
   "source": [
    "dataloader = data.train_dataloader()\n",
    "batch = next(iter(dataloader))\n",
    "# 0: input, 1: target\n",
    "n_samples = 8\n",
    "f, axs = plt.subplots(1, n_samples, figsize=(10, 5))\n",
    "for i, ax in enumerate(axs):\n",
    "    sample_image = batch[0][i]\n",
    "    sample_target = batch[1][i]\n",
    "    ax.imshow(sample_image.permute(1, 2, 0).mul(torch.as_tensor(norm_std)).add(torch.as_tensor(norm_mean)).clamp(0.0, 1.0))\n",
    "    ax.set_title(f\"label: {sample_target.numpy()}\");\n",
    "    ax.axis(False);"
   ]
  },
  {
   "cell_type": "markdown",
   "metadata": {},
   "source": [
    "## resnet model"
   ]
  },
  {
   "cell_type": "code",
   "execution_count": 9,
   "metadata": {},
   "outputs": [
    {
     "data": {
      "text/plain": [
       "\"activation\":          softmax\n",
       "\"data_shape\":          (3, 28, 28)\n",
       "\"learning_rate\":       0.1\n",
       "\"momentum\":            0.9\n",
       "\"num_classes\":         10\n",
       "\"pretrained\":          False\n",
       "\"scheduler\":           one_cycle\n",
       "\"sigmoid_soft_factor\": 0.9\n",
       "\"weight_decay\":        0.0005"
      ]
     },
     "execution_count": 9,
     "metadata": {},
     "output_type": "execute_result"
    }
   ],
   "source": [
    "class ResNetModel(pl.LightningModule):\n",
    "    def __init__(self, data_shape, num_classes, \n",
    "                 learning_rate, momentum=0.9, weight_decay=5e-4,\n",
    "                 pretrained=False, activation=\"softmax\", sigmoid_soft_factor=1.0, scheduler=\"one_cycle\"):\n",
    "        super().__init__()\n",
    "        self.save_hyperparameters()\n",
    "\n",
    "        # torchvision's resnet18 does not allow pretraining for num_classes != 1000\n",
    "        assert pretrained == False\n",
    "        self.resnet = torchvision.models.resnet18(num_classes=num_classes)\n",
    "    \n",
    "#         # to use pretraining simply replace last linear layer with one mathcing num_classes\n",
    "#         self.resnet = torchvision.models.resnet18(pretrained=pretrained)\n",
    "#         self.resnet.fc = torch.nn.Linear(512, 10)\n",
    "        \n",
    "        # this allows the trainer to show input and output sizes in the report (1 is just a sample batch size)\n",
    "        self.example_input_array = torch.zeros(1, *data_shape)\n",
    "        \n",
    "        self.train_acc = pl.metrics.Accuracy(compute_on_step=False)\n",
    "        self.val_acc = pl.metrics.Accuracy(compute_on_step=False)\n",
    "        self.test_acc = pl.metrics.Accuracy(compute_on_step=False)\n",
    "        self.test_confmatrix = pl.metrics.ConfusionMatrix(num_classes, compute_on_step=False)\n",
    "        \n",
    "    def configure_optimizers(self):\n",
    "        optimizer = torch.optim.SGD(self.parameters(), lr=self.hparams.learning_rate, momentum=self.hparams.momentum, weight_decay=self.hparams.weight_decay)\n",
    "        schedulers = []\n",
    "        if self.hparams.scheduler == \"one_cycle\":\n",
    "            steps_per_epoch = int(self.trainer.limit_train_batches * len(self.train_dataloader())) # same as batches per epoch\n",
    "            max_epochs = self.trainer.max_epochs\n",
    "            scheduler = torch.optim.lr_scheduler.OneCycleLR(\n",
    "                optimizer,\n",
    "                max_lr=self.hparams.learning_rate,\n",
    "                epochs=max_epochs,\n",
    "                steps_per_epoch=steps_per_epoch,\n",
    "                anneal_strategy=\"cos\", # can be \"linear\" or \"cos\"(default)\n",
    "                three_phase=False,\n",
    "            )\n",
    "            # \"interval: step\" is required to let the scheduler update per step rather than epoch\n",
    "            schedulers = [{\"scheduler\": scheduler, \"interval\": \"step\", \"frequency\": 1}]\n",
    "        elif self.hparams.scheduler == \"cosine_annealing\":\n",
    "            steps_per_epoch = int(self.trainer.limit_train_batches * len(self.train_dataloader())) # same as batches per epoch\n",
    "            max_epochs = self.trainer.max_epochs\n",
    "            max_steps = max_epochs * steps_per_epoch\n",
    "            scheduler = torch.optim.lr_scheduler.CosineAnnealingLR(\n",
    "                optimizer,\n",
    "                T_max=max_steps,\n",
    "            )\n",
    "            schedulers = [{\"scheduler\": scheduler, \"interval\": \"step\", \"frequency\": 1}]\n",
    "        elif isinstance(self.hparams.scheduler, type) or isinstance(self.hparams.scheduler, partial):\n",
    "            schedulers = [self.hparams.scheduler(optimizer)]\n",
    "        return [optimizer], schedulers\n",
    "    \n",
    "    def class_activation(self, x):\n",
    "        if self.hparams.activation == \"softmax\":\n",
    "            return x.softmax(1)\n",
    "        elif self.hparams.activation == \"sigmoid\":\n",
    "            return x.sigmoid()\n",
    "        \n",
    "    def class_loss(self, y_hat, y):\n",
    "        # y_hat: prediction, y: target\n",
    "        if self.hparams.activation == \"softmax\":\n",
    "            return torch.nn.functional.cross_entropy(y_hat, y)\n",
    "        elif self.hparams.activation == \"sigmoid\":\n",
    "            y = y.float()\n",
    "            y = y * self.hparams.sigmoid_soft_factor\n",
    "            y[y == 0] = (1.0 - self.hparams.sigmoid_soft_factor) / (self.hparams.num_classes - 1)\n",
    "            return torch.nn.functional.binary_cross_entropy_with_logits(y_hat, y)\n",
    "    \n",
    "    def _forward(self, x):\n",
    "        return self.resnet(x)\n",
    "    \n",
    "    def training_step(self, batch, batch_nb):\n",
    "        images, targets = batch\n",
    "        if self.hparams.activation == \"sigmoid\":\n",
    "            targets = torch.nn.functional.one_hot(targets, num_classes=self.hparams.num_classes)\n",
    "        \n",
    "        preds = self._forward(images)\n",
    "        loss = self.class_loss(preds, targets)\n",
    "        self.log(\"loss\", loss)\n",
    "        self.train_acc.update(self.class_activation(preds), targets)\n",
    "        # the accuracies are updated here, but only computed and reported at the epoch, see \"compute_on_step=False\", \"on_step=False\", \"on_epoch=True\"\n",
    "        self.log('train_acc', self.train_acc, prog_bar=False, on_step=False, on_epoch=True)\n",
    "        return loss\n",
    "    \n",
    "    def validation_step(self, batch, batch_nb):\n",
    "        images, targets = batch\n",
    "        if self.hparams.activation == \"sigmoid\":\n",
    "            targets = torch.nn.functional.one_hot(targets, num_classes=self.hparams.num_classes)\n",
    "        \n",
    "        preds = self._forward(images)\n",
    "        loss = self.class_loss(preds, targets)\n",
    "        self.log(\"val_loss\", loss)\n",
    "        self.val_acc.update(self.class_activation(preds), targets)\n",
    "        self.log('val_acc', self.val_acc, prog_bar=False, on_step=False, on_epoch=True)\n",
    "        return loss\n",
    "    \n",
    "    def test_step(self, batch, batch_nb):\n",
    "        images, targets = batch\n",
    "        if self.hparams.activation == \"sigmoid\":\n",
    "            targets = torch.nn.functional.one_hot(targets, num_classes=self.hparams.num_classes)\n",
    "        \n",
    "        preds = self._forward(images)\n",
    "        loss = self.class_loss(preds, targets)\n",
    "        self.log(\"test_loss\", loss)\n",
    "        self.test_acc.update(self.class_activation(preds), targets)\n",
    "        self.log('test_acc', self.test_acc, prog_bar=False, on_step=False, on_epoch=True)\n",
    "        self.test_confmatrix.update(self.class_activation(preds), targets)\n",
    "        return loss\n",
    "    \n",
    "    # this moves data to gpu when forward is called\n",
    "    @auto_move_data\n",
    "    def forward(self, x):\n",
    "        # in pl forward() is intended for inference, hence the activation is done here\n",
    "        logits = self._forward(x)\n",
    "        return self.class_activation(logits)\n",
    "\n",
    "num_classes = 10\n",
    "learning_rate = 1e-1\n",
    "# momentum = 0\n",
    "# weight_decay = 0\n",
    "momentum = 0.9\n",
    "weight_decay = 5e-4\n",
    "pretrained = False\n",
    "activation = \"softmax\"\n",
    "# activation = \"sigmoid\"\n",
    "sigmoid_soft_factor = 0.9 # soft label: this is a multiplier to reduce the one hot 1s in case of sigmoid to a smaller value\n",
    "# sigmoid_soft_factor = 1.0\n",
    "scheduler = \"one_cycle\" # \"cosine_annealing\" or None\n",
    "# one can also pass a partial scheduler class like the following to use other schedulers\n",
    "# scheduler = partial(torch.optim.lr_scheduler.MultiStepLR, milestones=[3, 6], gamma=0.1)\n",
    "\n",
    "rn_model = ResNetModel(\n",
    "    data.size(), \n",
    "    num_classes, \n",
    "    learning_rate, \n",
    "    momentum=momentum, \n",
    "    weight_decay=weight_decay,\n",
    "    pretrained=pretrained, \n",
    "    activation=activation,\n",
    "    sigmoid_soft_factor=sigmoid_soft_factor,\n",
    "    scheduler=scheduler,\n",
    ")\n",
    "rn_model.hparams"
   ]
  },
  {
   "cell_type": "markdown",
   "metadata": {},
   "source": [
    "# vision transformer"
   ]
  },
  {
   "cell_type": "code",
   "execution_count": 10,
   "metadata": {},
   "outputs": [
    {
     "data": {
      "text/plain": [
       "torch.Size([1, 10])"
      ]
     },
     "execution_count": 10,
     "metadata": {},
     "output_type": "execute_result"
    }
   ],
   "source": [
    "from einops.layers.torch import Rearrange\n",
    "\n",
    "class ViT(pl.LightningModule):\n",
    "    def __init__(self, data_shape, patch_size, num_classes, dim, depth, heads, mlp_dim,\n",
    "                 pool = 'cls', dim_head = 64, dropout = 0., emb_dropout = 0.,\n",
    "                 lr=3e-5, momentum=0.9, weight_decay=5e-4,scheduler=\"one_cycle\", activation=\"softmax\"):\n",
    "        super().__init__()\n",
    "        self.save_hyperparameters()\n",
    "        assert activation == \"softmax\"\n",
    "        assert data_shape[1] % patch_size == 0, 'Image dimensions must be divisible by the patch size.'\n",
    "        num_patches = (data_shape[1] // patch_size) ** 2\n",
    "        patch_dim = data_shape[0] * patch_size ** 2\n",
    "        assert pool in {'cls', 'mean'}, 'pool type must be either cls (cls token) or mean (mean pooling)'\n",
    "\n",
    "        self.to_patch_embedding = nn.Sequential(\n",
    "            Rearrange('b c (h p1) (w p2) -> b (h w) (p1 p2 c)', p1 = patch_size, p2 = patch_size),\n",
    "            nn.Linear(patch_dim, dim),\n",
    "        )\n",
    "        # TODO: play with this - use a conv instead of the self.to_patch_embedding above\n",
    "#         self.patch_conv = nn.Conv2d(3, 1024, kernel_size=7, stride=7)\n",
    "#         self.patch_conv = nn.Conv2d(3, 1024, kernel_size=25, stride=1)\n",
    "\n",
    "        self.pos_embedding = nn.Parameter(torch.randn(1, num_patches + 1, dim))\n",
    "\n",
    "        self.cls_token = nn.Parameter(torch.randn(1, 1, dim))\n",
    "        self.dropout = nn.Dropout(emb_dropout)\n",
    "        \n",
    "        encoder_layer = nn.TransformerEncoderLayer(dim, heads, activation=\"gelu\")\n",
    "        self.transformer = nn.TransformerEncoder(encoder_layer, depth)\n",
    "\n",
    "        self.pool = pool\n",
    "        self.to_latent = nn.Identity()\n",
    "\n",
    "        self.mlp_head = nn.Sequential(\n",
    "            nn.LayerNorm(dim),\n",
    "            nn.Linear(dim, num_classes)\n",
    "        )\n",
    "        \n",
    "        # this allows the trainer to show input and output sizes in the report (1 is just a sample batch size)\n",
    "        self.example_input_array = torch.zeros(1, *data_shape)\n",
    "        \n",
    "        self.train_acc = pl.metrics.Accuracy(compute_on_step=False)\n",
    "        self.val_acc = pl.metrics.Accuracy(compute_on_step=False)\n",
    "        self.test_acc = pl.metrics.Accuracy(compute_on_step=False)\n",
    "        self.test_confmatrix = pl.metrics.ConfusionMatrix(num_classes, compute_on_step=False)\n",
    "        \n",
    "    def class_activation(self, x):\n",
    "        if self.hparams.activation == \"softmax\":\n",
    "            return x.softmax(-1)\n",
    "        elif self.hparams.activation == \"sigmoid\":\n",
    "            return x.sigmoid()\n",
    "        \n",
    "    def class_loss(self, y_hat, y):\n",
    "        # y_hat: prediction, y: target\n",
    "        if self.hparams.activation == \"softmax\":\n",
    "            return torch.nn.functional.cross_entropy(y_hat, y)\n",
    "        elif self.hparams.activation == \"sigmoid\":\n",
    "            y = y.float()\n",
    "            y = y * self.hparams.sigmoid_soft_factor\n",
    "            y[y == 0] = (1.0 - self.hparams.sigmoid_soft_factor) / (self.hparams.num_classes - 1)\n",
    "            return torch.nn.functional.binary_cross_entropy_with_logits(y_hat, y)\n",
    "\n",
    "    def _forward(self, img, mask=None):\n",
    "        x = self.to_patch_embedding(img)\n",
    "        # TODO: see comment above to play with this\n",
    "#         x = self.patch_conv(img).flatten(2, 3).permute(0, 2, 1)\n",
    "        b, n, _ = x.shape\n",
    "\n",
    "        cls_tokens = repeat(self.cls_token, '() n d -> b n d', b = b)\n",
    "        x = torch.cat((cls_tokens, x), dim=1)\n",
    "        x += self.pos_embedding[:, :(n + 1)]\n",
    "        x = self.dropout(x)\n",
    "        # NOTE: be aware that pytorch's transformers expect batches like [SQLxBSZxFTS] instead of [BSZxSQLxFTS]\n",
    "        x = x.permute(1, 0, 2)\n",
    "        x = self.transformer(x, mask)\n",
    "        x = x.permute(1, 0, 2)\n",
    "\n",
    "        x = x.mean(dim = 1) if self.pool == 'mean' else x[:, 0]\n",
    "\n",
    "        x = self.to_latent(x)\n",
    "        return self.mlp_head(x)\n",
    "    \n",
    "    @auto_move_data\n",
    "    def forward(self, img, mask=None):\n",
    "        y_hat = self._forward(img, mask)\n",
    "        y_hat = self.class_activation(y_hat)\n",
    "        return y_hat\n",
    "    \n",
    "    def configure_optimizers(self):\n",
    "        optimizer = torch.optim.Adam(self.parameters(), lr=self.hparams.lr, weight_decay=self.hparams.weight_decay)\n",
    "        schedulers = []\n",
    "        if self.hparams.scheduler == \"one_cycle\":\n",
    "            steps_per_epoch = int(self.trainer.limit_train_batches * len(self.train_dataloader())) # same as batches per epoch\n",
    "            max_epochs = self.trainer.max_epochs\n",
    "            scheduler = torch.optim.lr_scheduler.OneCycleLR(\n",
    "                optimizer,\n",
    "                max_lr=self.hparams.lr,\n",
    "                epochs=max_epochs,\n",
    "                steps_per_epoch=steps_per_epoch,\n",
    "                anneal_strategy=\"cos\", # can be \"linear\" or \"cos\"(default)\n",
    "                three_phase=False,\n",
    "            )\n",
    "            # \"interval: step\" is required to let the scheduler update per step rather than epoch\n",
    "            schedulers = [{\"scheduler\": scheduler, \"interval\": \"step\", \"frequency\": 1}]\n",
    "        elif self.hparams.scheduler == \"cosine_annealing\":\n",
    "            steps_per_epoch = int(self.trainer.limit_train_batches * len(self.train_dataloader())) # same as batches per epoch\n",
    "            max_epochs = self.trainer.max_epochs\n",
    "            max_steps = max_epochs * steps_per_epoch\n",
    "            scheduler = torch.optim.lr_scheduler.CosineAnnealingLR(\n",
    "                optimizer,\n",
    "                T_max=max_steps,\n",
    "            )\n",
    "            schedulers = [{\"scheduler\": scheduler, \"interval\": \"step\", \"frequency\": 1}]\n",
    "        elif isinstance(self.hparams.scheduler, type) or isinstance(self.hparams.scheduler, partial):\n",
    "            schedulers = [self.hparams.scheduler(optimizer)]\n",
    "        return [optimizer], schedulers\n",
    "    \n",
    "    def training_step(self, batch, batch_nb):\n",
    "        images, targets = batch\n",
    "        if self.hparams.activation == \"sigmoid\":\n",
    "            targets = torch.nn.functional.one_hot(targets, num_classes=self.hparams.num_classes)\n",
    "        \n",
    "        logits = self._forward(images)\n",
    "        loss = self.class_loss(logits, targets)\n",
    "        self.log(\"loss\", loss)\n",
    "        self.train_acc.update(self.class_activation(logits), targets)\n",
    "        # the accuracies are updated here, but only computed and reported at the epoch, see \"compute_on_step=False\", \"on_step=False\", \"on_epoch=True\"\n",
    "        self.log('train_acc', self.train_acc, prog_bar=False, on_step=False, on_epoch=True)\n",
    "        return loss\n",
    "    \n",
    "    def validation_step(self, batch, batch_nb):\n",
    "        images, targets = batch\n",
    "        if self.hparams.activation == \"sigmoid\":\n",
    "            targets = torch.nn.functional.one_hot(targets, num_classes=self.hparams.num_classes)\n",
    "        \n",
    "        logits = self._forward(images)\n",
    "        loss = self.class_loss(logits, targets)\n",
    "        self.log(\"val_loss\", loss)\n",
    "        self.val_acc.update(self.class_activation(logits), targets)\n",
    "        self.log('val_acc', self.val_acc, prog_bar=False, on_step=False, on_epoch=True)\n",
    "        return loss\n",
    "    \n",
    "    def test_step(self, batch, batch_nb):\n",
    "        images, targets = batch\n",
    "        if self.hparams.activation == \"sigmoid\":\n",
    "            targets = torch.nn.functional.one_hot(targets, num_classes=self.hparams.num_classes)\n",
    "        \n",
    "        logits = self._forward(images)\n",
    "        loss = self.class_loss(logits, targets)\n",
    "        self.log(\"test_loss\", loss)\n",
    "        self.test_acc.update(self.class_activation(logits), targets)\n",
    "        self.log('test_acc', self.test_acc, prog_bar=False, on_step=False, on_epoch=True)\n",
    "        self.test_confmatrix.update(self.class_activation(logits), targets)\n",
    "        return loss\n",
    "    \n",
    "patch_size = 7\n",
    "num_classes = 10\n",
    "lr = 1e-4\n",
    "scheduler = \"one_cycle\"\n",
    "# TODO: play with the hyperparameters like detph, heads, etc\n",
    "# compared to the notebook with the lucidrains implementation, the depth and heads are reduced here\n",
    "# original values are behind the #\n",
    "vit_model = ViT(\n",
    "    data.size(),\n",
    "    patch_size=patch_size,\n",
    "    num_classes=num_classes,\n",
    "    dim=1024,\n",
    "    depth=2, # 6\n",
    "    heads=8, # 16\n",
    "    mlp_dim=2048,\n",
    "    dropout=0.1,\n",
    "    emb_dropout=0.1,\n",
    "    lr=lr,\n",
    "    scheduler=scheduler,\n",
    ")\n",
    "\n",
    "img = torch.randn(1, 3, 28, 28)\n",
    "mask = torch.ones(1, 8, 8).bool() # optional mask, designating which patch to attend to\n",
    "\n",
    "preds = vit_model(img)#, mask = mask) # (1, 1000)\n",
    "preds.shape"
   ]
  },
  {
   "cell_type": "markdown",
   "metadata": {},
   "source": [
    "## train model"
   ]
  },
  {
   "cell_type": "code",
   "execution_count": 11,
   "metadata": {},
   "outputs": [],
   "source": [
    "# run this to show very detailed model information and if model has example_input_array also detailed feature sizes\n",
    "# pl.core.memory.ModelSummary(model, mode=\"full\")"
   ]
  },
  {
   "cell_type": "code",
   "execution_count": 12,
   "metadata": {
    "tags": []
   },
   "outputs": [
    {
     "name": "stdout",
     "output_type": "stream",
     "text": [
      "GPU available: True, used: True\n",
      "TPU available: None, using: 0 TPU cores\n",
      "Using native 16bit precision.\n",
      "\n",
      "  | Name               | Type               | Params | In sizes             | Out sizes    \n",
      "-------------------------------------------------------------------------------------------------\n",
      "0 | to_patch_embedding | Sequential         | 151 K  | [1, 3, 28, 28]       | [1, 16, 1024]\n",
      "1 | dropout            | Dropout            | 0      | [1, 17, 1024]        | [1, 17, 1024]\n",
      "2 | transformer        | TransformerEncoder | 16.8 M | [[17, 1, 1024], '?'] | [17, 1, 1024]\n",
      "3 | to_latent          | Identity           | 0      | [1, 1024]            | [1, 1024]    \n",
      "4 | mlp_head           | Sequential         | 12.3 K | [1, 1024]            | [1, 10]      \n",
      "5 | train_acc          | Accuracy           | 0      | ?                    | ?            \n",
      "6 | val_acc            | Accuracy           | 0      | ?                    | ?            \n",
      "7 | test_acc           | Accuracy           | 0      | ?                    | ?            \n",
      "8 | test_confmatrix    | ConfusionMatrix    | 0      | ?                    | ?            \n",
      "-------------------------------------------------------------------------------------------------\n",
      "17.0 M    Trainable params\n",
      "0         Non-trainable params\n",
      "17.0 M    Total params\n",
      "67.928    Total estimated model params size (MB)\n"
     ]
    },
    {
     "data": {
      "application/vnd.jupyter.widget-view+json": {
       "model_id": "3308ec52776647a6868a3e383fd0392b",
       "version_major": 2,
       "version_minor": 0
      },
      "text/plain": [
       "Training: 0it [00:00, ?it/s]"
      ]
     },
     "metadata": {},
     "output_type": "display_data"
    },
    {
     "data": {
      "text/html": [
       "<style  type=\"text/css\" >\n",
       "#T_2acb1_row0_col0,#T_2acb1_row0_col1,#T_2acb1_row0_col2,#T_2acb1_row0_col3,#T_2acb1_row0_col4,#T_2acb1_row0_col5,#T_2acb1_row1_col0,#T_2acb1_row1_col1,#T_2acb1_row1_col2,#T_2acb1_row1_col3,#T_2acb1_row1_col4,#T_2acb1_row1_col5,#T_2acb1_row2_col0,#T_2acb1_row2_col1,#T_2acb1_row2_col2,#T_2acb1_row2_col3,#T_2acb1_row2_col4,#T_2acb1_row2_col5,#T_2acb1_row3_col0,#T_2acb1_row3_col1,#T_2acb1_row3_col2,#T_2acb1_row3_col3,#T_2acb1_row3_col4,#T_2acb1_row3_col5,#T_2acb1_row4_col0,#T_2acb1_row4_col1,#T_2acb1_row4_col2,#T_2acb1_row4_col3,#T_2acb1_row4_col4,#T_2acb1_row4_col5,#T_2acb1_row5_col0,#T_2acb1_row5_col1,#T_2acb1_row5_col2,#T_2acb1_row5_col3,#T_2acb1_row5_col4,#T_2acb1_row5_col5,#T_2acb1_row6_col0,#T_2acb1_row6_col1,#T_2acb1_row6_col2,#T_2acb1_row6_col3,#T_2acb1_row6_col4,#T_2acb1_row6_col5,#T_2acb1_row7_col0,#T_2acb1_row7_col1,#T_2acb1_row7_col2,#T_2acb1_row7_col3,#T_2acb1_row7_col4,#T_2acb1_row7_col5,#T_2acb1_row8_col0,#T_2acb1_row8_col1,#T_2acb1_row8_col2,#T_2acb1_row8_col3,#T_2acb1_row8_col4,#T_2acb1_row8_col5{\n",
       "            color:  black;\n",
       "        }#T_2acb1_row9_col0,#T_2acb1_row9_col1,#T_2acb1_row9_col2,#T_2acb1_row9_col3,#T_2acb1_row9_col4,#T_2acb1_row9_col5{\n",
       "            font-weight:  bold;\n",
       "        }</style><table id=\"T_2acb1_\" ><thead>    <tr>        <th class=\"col_heading level0 col0\" >epoch</th>        <th class=\"col_heading level0 col1\" >loss</th>        <th class=\"col_heading level0 col2\" >val_loss</th>        <th class=\"col_heading level0 col3\" >val_acc</th>        <th class=\"col_heading level0 col4\" >train_acc</th>        <th class=\"col_heading level0 col5\" >time</th>    </tr></thead><tbody>\n",
       "                <tr>\n",
       "                                <td id=\"T_2acb1_row0_col0\" class=\"data row0 col0\" >0</td>\n",
       "                        <td id=\"T_2acb1_row0_col1\" class=\"data row0 col1\" >0.347000</td>\n",
       "                        <td id=\"T_2acb1_row0_col2\" class=\"data row0 col2\" >0.253895</td>\n",
       "                        <td id=\"T_2acb1_row0_col3\" class=\"data row0 col3\" >0.922556</td>\n",
       "                        <td id=\"T_2acb1_row0_col4\" class=\"data row0 col4\" >0.774167</td>\n",
       "                        <td id=\"T_2acb1_row0_col5\" class=\"data row0 col5\" >0:00:28</td>\n",
       "            </tr>\n",
       "            <tr>\n",
       "                                <td id=\"T_2acb1_row1_col0\" class=\"data row1 col0\" >1</td>\n",
       "                        <td id=\"T_2acb1_row1_col1\" class=\"data row1 col1\" >0.242000</td>\n",
       "                        <td id=\"T_2acb1_row1_col2\" class=\"data row1 col2\" >0.171655</td>\n",
       "                        <td id=\"T_2acb1_row1_col3\" class=\"data row1 col3\" >0.949667</td>\n",
       "                        <td id=\"T_2acb1_row1_col4\" class=\"data row1 col4\" >0.922286</td>\n",
       "                        <td id=\"T_2acb1_row1_col5\" class=\"data row1 col5\" >0:00:29</td>\n",
       "            </tr>\n",
       "            <tr>\n",
       "                                <td id=\"T_2acb1_row2_col0\" class=\"data row2 col0\" >2</td>\n",
       "                        <td id=\"T_2acb1_row2_col1\" class=\"data row2 col1\" >0.135000</td>\n",
       "                        <td id=\"T_2acb1_row2_col2\" class=\"data row2 col2\" >0.145065</td>\n",
       "                        <td id=\"T_2acb1_row2_col3\" class=\"data row2 col3\" >0.954444</td>\n",
       "                        <td id=\"T_2acb1_row2_col4\" class=\"data row2 col4\" >0.942095</td>\n",
       "                        <td id=\"T_2acb1_row2_col5\" class=\"data row2 col5\" >0:00:29</td>\n",
       "            </tr>\n",
       "            <tr>\n",
       "                                <td id=\"T_2acb1_row3_col0\" class=\"data row3 col0\" >3</td>\n",
       "                        <td id=\"T_2acb1_row3_col1\" class=\"data row3 col1\" >0.101000</td>\n",
       "                        <td id=\"T_2acb1_row3_col2\" class=\"data row3 col2\" >0.130395</td>\n",
       "                        <td id=\"T_2acb1_row3_col3\" class=\"data row3 col3\" >0.960278</td>\n",
       "                        <td id=\"T_2acb1_row3_col4\" class=\"data row3 col4\" >0.952167</td>\n",
       "                        <td id=\"T_2acb1_row3_col5\" class=\"data row3 col5\" >0:00:28</td>\n",
       "            </tr>\n",
       "            <tr>\n",
       "                                <td id=\"T_2acb1_row4_col0\" class=\"data row4 col0\" >4</td>\n",
       "                        <td id=\"T_2acb1_row4_col1\" class=\"data row4 col1\" >0.081500</td>\n",
       "                        <td id=\"T_2acb1_row4_col2\" class=\"data row4 col2\" >0.110878</td>\n",
       "                        <td id=\"T_2acb1_row4_col3\" class=\"data row4 col3\" >0.965833</td>\n",
       "                        <td id=\"T_2acb1_row4_col4\" class=\"data row4 col4\" >0.962190</td>\n",
       "                        <td id=\"T_2acb1_row4_col5\" class=\"data row4 col5\" >0:00:29</td>\n",
       "            </tr>\n",
       "            <tr>\n",
       "                                <td id=\"T_2acb1_row5_col0\" class=\"data row5 col0\" >5</td>\n",
       "                        <td id=\"T_2acb1_row5_col1\" class=\"data row5 col1\" >0.095400</td>\n",
       "                        <td id=\"T_2acb1_row5_col2\" class=\"data row5 col2\" >0.091438</td>\n",
       "                        <td id=\"T_2acb1_row5_col3\" class=\"data row5 col3\" >0.971833</td>\n",
       "                        <td id=\"T_2acb1_row5_col4\" class=\"data row5 col4\" >0.971881</td>\n",
       "                        <td id=\"T_2acb1_row5_col5\" class=\"data row5 col5\" >0:00:28</td>\n",
       "            </tr>\n",
       "            <tr>\n",
       "                                <td id=\"T_2acb1_row6_col0\" class=\"data row6 col0\" >6</td>\n",
       "                        <td id=\"T_2acb1_row6_col1\" class=\"data row6 col1\" >0.108000</td>\n",
       "                        <td id=\"T_2acb1_row6_col2\" class=\"data row6 col2\" >0.077361</td>\n",
       "                        <td id=\"T_2acb1_row6_col3\" class=\"data row6 col3\" >0.975778</td>\n",
       "                        <td id=\"T_2acb1_row6_col4\" class=\"data row6 col4\" >0.978048</td>\n",
       "                        <td id=\"T_2acb1_row6_col5\" class=\"data row6 col5\" >0:00:28</td>\n",
       "            </tr>\n",
       "            <tr>\n",
       "                                <td id=\"T_2acb1_row7_col0\" class=\"data row7 col0\" >7</td>\n",
       "                        <td id=\"T_2acb1_row7_col1\" class=\"data row7 col1\" >0.030100</td>\n",
       "                        <td id=\"T_2acb1_row7_col2\" class=\"data row7 col2\" >0.065159</td>\n",
       "                        <td id=\"T_2acb1_row7_col3\" class=\"data row7 col3\" >0.980389</td>\n",
       "                        <td id=\"T_2acb1_row7_col4\" class=\"data row7 col4\" >0.985810</td>\n",
       "                        <td id=\"T_2acb1_row7_col5\" class=\"data row7 col5\" >0:00:29</td>\n",
       "            </tr>\n",
       "            <tr>\n",
       "                                <td id=\"T_2acb1_row8_col0\" class=\"data row8 col0\" >8</td>\n",
       "                        <td id=\"T_2acb1_row8_col1\" class=\"data row8 col1\" >0.026500</td>\n",
       "                        <td id=\"T_2acb1_row8_col2\" class=\"data row8 col2\" >0.061550</td>\n",
       "                        <td id=\"T_2acb1_row8_col3\" class=\"data row8 col3\" >0.981556</td>\n",
       "                        <td id=\"T_2acb1_row8_col4\" class=\"data row8 col4\" >0.990571</td>\n",
       "                        <td id=\"T_2acb1_row8_col5\" class=\"data row8 col5\" >0:00:30</td>\n",
       "            </tr>\n",
       "            <tr>\n",
       "                                <td id=\"T_2acb1_row9_col0\" class=\"data row9 col0\" >9</td>\n",
       "                        <td id=\"T_2acb1_row9_col1\" class=\"data row9 col1\" >0.014200</td>\n",
       "                        <td id=\"T_2acb1_row9_col2\" class=\"data row9 col2\" >0.061459</td>\n",
       "                        <td id=\"T_2acb1_row9_col3\" class=\"data row9 col3\" >0.981444</td>\n",
       "                        <td id=\"T_2acb1_row9_col4\" class=\"data row9 col4\" >0.993405</td>\n",
       "                        <td id=\"T_2acb1_row9_col5\" class=\"data row9 col5\" >0:00:28</td>\n",
       "            </tr>\n",
       "    </tbody></table>"
      ],
      "text/plain": [
       "<pandas.io.formats.style.Styler at 0x7f62b5b55f10>"
      ]
     },
     "metadata": {},
     "output_type": "display_data"
    },
    {
     "data": {
      "image/png": "[encoded data removed]",
      "text/plain": [
       "<Figure size 432x288 with 2 Axes>"
      ]
     },
     "metadata": {},
     "output_type": "display_data"
    },
    {
     "name": "stdout",
     "output_type": "stream",
     "text": [
      "runtime: 302 s\n"
     ]
    }
   ],
   "source": [
    "tb_logger = pl.loggers.TensorBoardLogger(\"/home/mtadmin/projects/tensorboard_logs\")\n",
    "\n",
    "plotter = ProgressPlotter()\n",
    "callbacks = [\n",
    "    ProgressBar(),\n",
    "    ProgressPrinter(),\n",
    "    plotter,\n",
    "    LearningRateMonitor(log_momentum=True),\n",
    "]\n",
    "\n",
    "# early_stop_callback = EarlyStopping(\n",
    "#     monitor=\"val_loss\",\n",
    "#     mode=\"min\",\n",
    "#     patience=5,\n",
    "#     verbose=True,\n",
    "# )\n",
    "# callbacks = [early_stop_callback] + callbacks\n",
    "\n",
    "\n",
    "# model_checker = ModelCheckpoint(\n",
    "#     monitor=\"val_loss\",\n",
    "#     mode=\"min\",\n",
    "#     save_last=True, \n",
    "#     save_top_k=1, \n",
    "#     filename=\"best_{epoch}\",\n",
    "# )\n",
    "# callbacks += [model_checker]\n",
    "\n",
    "# model = rn_model # baseline model\n",
    "model = vit_model\n",
    "\n",
    "max_epochs = 10\n",
    "limit_train_batches = 1.0\n",
    "# limit_train_batches = 0.1 # 1.0 by default/full set, use this to check training on a smaller train set, also exists for val and test set\n",
    "trainer = pl.Trainer(\n",
    "    max_epochs=max_epochs, \n",
    "    gpus=1,\n",
    "    callbacks=callbacks,\n",
    "    logger=[tb_logger],\n",
    "    precision=16,\n",
    "#     fast_dev_run=True, \n",
    "    limit_train_batches=limit_train_batches,\n",
    ")\n",
    "\n",
    "start_time = time.time()\n",
    "trainer.fit(model, data)\n",
    "print(f\"runtime: {time.time() - start_time:.0f} s\")"
   ]
  },
  {
   "cell_type": "markdown",
   "metadata": {},
   "source": [
    "# we aim for ~99 %"
   ]
  },
  {
   "cell_type": "code",
   "execution_count": 13,
   "metadata": {},
   "outputs": [],
   "source": [
    "# trainer.logger.log_dir\n",
    "# trainer.checkpoint_callback.best_model_path"
   ]
  },
  {
   "cell_type": "code",
   "execution_count": 14,
   "metadata": {},
   "outputs": [
    {
     "data": {
      "image/png": "[encoded data removed]",
      "text/plain": [
       "<Figure size 432x288 with 2 Axes>"
      ]
     },
     "metadata": {
      "needs_background": "light"
     },
     "output_type": "display_data"
    }
   ],
   "source": [
    "# static plot after training, useful when coming back after training finished\n",
    "plotter.static_plot()"
   ]
  },
  {
   "cell_type": "code",
   "execution_count": 15,
   "metadata": {},
   "outputs": [
    {
     "data": {
      "application/vnd.jupyter.widget-view+json": {
       "model_id": "1cc47f0cac6c42a3970bb9c2c4a28e05",
       "version_major": 2,
       "version_minor": 0
      },
      "text/plain": [
       "Testing:   0%|          | 0/27 [00:00<?, ?it/s]"
      ]
     },
     "metadata": {},
     "output_type": "display_data"
    },
    {
     "data": {
      "text/plain": [
       "[{'test_loss': 0.05773155391216278, 'test_acc': 0.9835000038146973}]"
      ]
     },
     "execution_count": 15,
     "metadata": {},
     "output_type": "execute_result"
    }
   ],
   "source": [
    "trainer.test(verbose=False)"
   ]
  },
  {
   "cell_type": "code",
   "execution_count": 16,
   "metadata": {},
   "outputs": [
    {
     "data": {
      "text/plain": [
       "<matplotlib.image.AxesImage at 0x7f62bacac3a0>"
      ]
     },
     "execution_count": 16,
     "metadata": {},
     "output_type": "execute_result"
    },
    {
     "data": {
      "image/png": "[encoded data removed]",
      "text/plain": [
       "<Figure size 432x288 with 1 Axes>"
      ]
     },
     "metadata": {
      "needs_background": "light"
     },
     "output_type": "display_data"
    }
   ],
   "source": [
    "plt.imshow(model.test_confmatrix.compute().cpu())"
   ]
  },
  {
   "cell_type": "markdown",
   "metadata": {},
   "source": [
    "## compute accuracy the hard way"
   ]
  },
  {
   "cell_type": "code",
   "execution_count": 17,
   "metadata": {},
   "outputs": [
    {
     "data": {
      "application/vnd.jupyter.widget-view+json": {
       "model_id": "ed601cc37a944d3f99aadb23831b720c",
       "version_major": 2,
       "version_minor": 0
      },
      "text/plain": [
       "  0%|          | 0/313 [00:00<?, ?it/s]"
      ]
     },
     "metadata": {},
     "output_type": "display_data"
    }
   ],
   "source": [
    "model.eval()\n",
    "all_targets = []\n",
    "all_scores = []\n",
    "for images, targets in tqdm(data.test_dataloader()):\n",
    "    with torch.no_grad():\n",
    "        scores = model(images).cpu().float()\n",
    "        all_scores.append(scores)\n",
    "        all_targets.append(targets)\n",
    "        \n",
    "scores = torch.cat(all_scores)\n",
    "targets = torch.cat(all_targets)"
   ]
  },
  {
   "cell_type": "code",
   "execution_count": 18,
   "metadata": {},
   "outputs": [
    {
     "data": {
      "text/plain": [
       "tensor(0.9835)"
      ]
     },
     "execution_count": 18,
     "metadata": {},
     "output_type": "execute_result"
    }
   ],
   "source": [
    "accuracy = (scores.max(1)[1] == targets).sum() / float(len(targets))\n",
    "accuracy"
   ]
  }
 ],
 "metadata": {
  "kernelspec": {
   "display_name": "Python [conda env:dev_pytorch18]",
   "language": "python",
   "name": "conda-env-dev_pytorch18-py"
  },
  "language_info": {
   "codemirror_mode": {
    "name": "ipython",
    "version": 3
   },
   "file_extension": ".py",
   "mimetype": "text/x-python",
   "name": "python",
   "nbconvert_exporter": "python",
   "pygments_lexer": "ipython3",
   "version": "3.8.8"
  }
 },
 "nbformat": 4,
 "nbformat_minor": 4
}
